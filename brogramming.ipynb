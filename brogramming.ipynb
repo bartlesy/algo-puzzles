{
 "cells": [
  {
   "cell_type": "code",
   "execution_count": 1,
   "metadata": {
    "ExecuteTime": {
     "end_time": "2017-03-29T13:38:20.605159",
     "start_time": "2017-03-29T13:38:20.599496"
    },
    "collapsed": true
   },
   "outputs": [],
   "source": [
    "test1 = 'weed'\n",
    "test2 = 'nugz'\n",
    "test3 = 'edwe'\n",
    "test4 = 'weeed'"
   ]
  },
  {
   "cell_type": "code",
   "execution_count": 2,
   "metadata": {
    "ExecuteTime": {
     "end_time": "2017-03-29T13:38:20.612621",
     "start_time": "2017-03-29T13:38:20.607048"
    },
    "collapsed": true
   },
   "outputs": [],
   "source": [
    "def chk_perm(s1, s2):\n",
    "    for s in s1:\n",
    "        try:\n",
    "            ind = s2.index(s)\n",
    "            s2 = s2[:ind] + s2[ind + 1:]\n",
    "        except:\n",
    "            return False\n",
    "    if s2 != '':\n",
    "        return False\n",
    "    return True"
   ]
  },
  {
   "cell_type": "code",
   "execution_count": 3,
   "metadata": {
    "ExecuteTime": {
     "end_time": "2017-03-29T13:38:20.626826",
     "start_time": "2017-03-29T13:38:20.614202"
    },
    "collapsed": false
   },
   "outputs": [
    {
     "data": {
      "text/plain": [
       "True"
      ]
     },
     "execution_count": 3,
     "metadata": {},
     "output_type": "execute_result"
    }
   ],
   "source": [
    "chk_perm(test1, test3)"
   ]
  },
  {
   "cell_type": "code",
   "execution_count": 4,
   "metadata": {
    "ExecuteTime": {
     "end_time": "2017-03-29T13:38:20.631948",
     "start_time": "2017-03-29T13:38:20.628241"
    },
    "collapsed": false
   },
   "outputs": [
    {
     "data": {
      "text/plain": [
       "False"
      ]
     },
     "execution_count": 4,
     "metadata": {},
     "output_type": "execute_result"
    }
   ],
   "source": [
    "chk_perm(test1, test2)"
   ]
  },
  {
   "cell_type": "code",
   "execution_count": 5,
   "metadata": {
    "ExecuteTime": {
     "end_time": "2017-03-29T13:38:20.637784",
     "start_time": "2017-03-29T13:38:20.633786"
    },
    "collapsed": false
   },
   "outputs": [
    {
     "data": {
      "text/plain": [
       "False"
      ]
     },
     "execution_count": 5,
     "metadata": {},
     "output_type": "execute_result"
    }
   ],
   "source": [
    "chk_perm(test1, test4)"
   ]
  },
  {
   "cell_type": "code",
   "execution_count": 6,
   "metadata": {
    "ExecuteTime": {
     "end_time": "2017-03-29T13:38:20.646199",
     "start_time": "2017-03-29T13:38:20.639325"
    },
    "collapsed": false
   },
   "outputs": [
    {
     "name": "stdout",
     "output_type": "stream",
     "text": [
      "weed%20owns%20%20%20\n",
      "weed%20owns\n"
     ]
    }
   ],
   "source": [
    "s1 = 'weed owns   '\n",
    "new = []\n",
    "for s in s1:\n",
    "    if s == ' ':\n",
    "        new.append('%20')\n",
    "    else:\n",
    "        new.append(s) \n",
    "print(''.join(new))\n",
    "\n",
    "\n",
    "true_len = len('weed owns')\n",
    "print s1[:true_len].replace(' ', '%20')"
   ]
  },
  {
   "cell_type": "code",
   "execution_count": 7,
   "metadata": {
    "ExecuteTime": {
     "end_time": "2017-03-29T13:38:20.653568",
     "start_time": "2017-03-29T13:38:20.647816"
    },
    "collapsed": false
   },
   "outputs": [
    {
     "name": "stdout",
     "output_type": "stream",
     "text": [
      "z%20y%20x%20w%20v%20u%20t%20s%20r%20q%20p%20o%20n%20mlkjihgfedcba\n"
     ]
    }
   ],
   "source": [
    "s1 = 'z y x w v u t s r q p o n mlkjihgfedcba          '\n",
    "new = ''\n",
    "for i, c in enumerate(s1):\n",
    "    if max(s1[i:]) == ' ':\n",
    "        break\n",
    "    if c == ' ':\n",
    "        new += '%20'\n",
    "    else:\n",
    "        new += c\n",
    "print new"
   ]
  },
  {
   "cell_type": "code",
   "execution_count": 8,
   "metadata": {
    "ExecuteTime": {
     "end_time": "2017-03-29T13:38:20.658607",
     "start_time": "2017-03-29T13:38:20.654983"
    },
    "collapsed": false
   },
   "outputs": [],
   "source": [
    "def is_palindrome(s):\n",
    "    if s == '':\n",
    "        return True\n",
    "    if s[0] != s[-1]:\n",
    "        return False\n",
    "    return is_palindrome(s[1:-1])"
   ]
  },
  {
   "cell_type": "code",
   "execution_count": 9,
   "metadata": {
    "ExecuteTime": {
     "end_time": "2017-03-29T13:38:20.669224",
     "start_time": "2017-03-29T13:38:20.660228"
    },
    "collapsed": false
   },
   "outputs": [],
   "source": [
    "def longest_pal(text):\n",
    "    if text == '' or text is None:\n",
    "        return None\n",
    "    n = len(text)\n",
    "    sub_pal = []\n",
    "    for i in range(n):\n",
    "        l = i + 1\n",
    "        for j in range(l):\n",
    "            if(i >= j):\n",
    "                chunk = text[j:(i + 1)]\n",
    "                ptmp = chunk == chunk[::-1]\n",
    "                if ptmp:\n",
    "                    sub_pal.append(chunk)\n",
    "    out = max([len(i) for i in sub_pal])\n",
    "    if out == 1:\n",
    "        return \"No non-trivial palindromic subsequences in string\"\n",
    "    return out"
   ]
  },
  {
   "cell_type": "code",
   "execution_count": 10,
   "metadata": {
    "ExecuteTime": {
     "end_time": "2017-03-29T13:38:20.675259",
     "start_time": "2017-03-29T13:38:20.670874"
    },
    "collapsed": false
   },
   "outputs": [],
   "source": [
    "longest_pal('aaracecaraaasdlfaaaaaracecaraaaaagalpoe')\n",
    "longest_pal('')\n",
    "longest_pal(None)"
   ]
  },
  {
   "cell_type": "code",
   "execution_count": 11,
   "metadata": {
    "ExecuteTime": {
     "end_time": "2017-03-29T13:38:20.683382",
     "start_time": "2017-03-29T13:38:20.677031"
    },
    "collapsed": true
   },
   "outputs": [],
   "source": [
    "def missingNumber(nums):\n",
    "    \"\"\"\n",
    "    :type nums: List[int]\n",
    "    :rtype: int\n",
    "    \"\"\"\n",
    "    v, tot = 0, 0\n",
    "    for i, n in enumerate(nums):\n",
    "        v ^= n\n",
    "        tot ^= i\n",
    "        print 'v:', bin(v)\n",
    "        print 'tot:', bin(tot)\n",
    "        print 'xor:', bin(v ^ tot)\n",
    "    print 'answer:', bin(v^tot^len(nums))\n",
    "    return v ^ tot ^ len(nums)"
   ]
  },
  {
   "cell_type": "code",
   "execution_count": 12,
   "metadata": {
    "ExecuteTime": {
     "end_time": "2017-03-29T13:38:20.696101",
     "start_time": "2017-03-29T13:38:20.685230"
    },
    "collapsed": false
   },
   "outputs": [
    {
     "name": "stdout",
     "output_type": "stream",
     "text": [
      "v: 0b1\n",
      "tot: 0b0\n",
      "xor: 0b1\n",
      "v: 0b11\n",
      "tot: 0b1\n",
      "xor: 0b10\n",
      "v: 0b0\n",
      "tot: 0b11\n",
      "xor: 0b11\n",
      "v: 0b0\n",
      "tot: 0b0\n",
      "xor: 0b0\n",
      "v: 0b101\n",
      "tot: 0b100\n",
      "xor: 0b1\n",
      "answer: 0b100\n"
     ]
    },
    {
     "data": {
      "text/plain": [
       "4"
      ]
     },
     "execution_count": 12,
     "metadata": {},
     "output_type": "execute_result"
    }
   ],
   "source": [
    "missingNumber([1, 2, 3, 0, 5])"
   ]
  },
  {
   "cell_type": "code",
   "execution_count": 13,
   "metadata": {
    "ExecuteTime": {
     "end_time": "2017-03-29T13:38:20.703154",
     "start_time": "2017-03-29T13:38:20.697858"
    },
    "collapsed": true
   },
   "outputs": [],
   "source": [
    "def missingNumber(nums):\n",
    "    \"\"\"\n",
    "    :type nums: List[int]\n",
    "    :rtype: int\n",
    "    \"\"\"\n",
    "    v = 0\n",
    "    for i, n in enumerate(nums):\n",
    "        v ^= n ^ i\n",
    "    return v ^ len(nums)"
   ]
  },
  {
   "cell_type": "code",
   "execution_count": 14,
   "metadata": {
    "ExecuteTime": {
     "end_time": "2017-03-29T13:38:20.710330",
     "start_time": "2017-03-29T13:38:20.704957"
    },
    "collapsed": false
   },
   "outputs": [
    {
     "data": {
      "text/plain": [
       "4"
      ]
     },
     "execution_count": 14,
     "metadata": {},
     "output_type": "execute_result"
    }
   ],
   "source": [
    "missingNumber([1, 2, 3, 0, 5])"
   ]
  },
  {
   "cell_type": "code",
   "execution_count": 15,
   "metadata": {
    "ExecuteTime": {
     "end_time": "2017-03-29T13:38:20.726036",
     "start_time": "2017-03-29T13:38:20.712244"
    },
    "collapsed": true
   },
   "outputs": [],
   "source": [
    "class SumInArray(object):\n",
    "\n",
    "    @classmethod\n",
    "    def solve(self, arr, tar_sum, max_n):\n",
    "        arr.sort()\n",
    "        out = []\n",
    "        cur_out = []\n",
    "        self._solve(out, arr, tar_sum, cur_out)\n",
    "        out = filter(lambda x: len(x) == max_n, out)\n",
    "        return out\n",
    "    \n",
    "    @classmethod\n",
    "    def _solve(self, out, arr, tar_sum, cur_out):\n",
    "        if tar_sum == 0:\n",
    "            out.append([x for x in cur_out])\n",
    "            return # lol mutable arguments\n",
    "\n",
    "        for i, x in enumerate(arr):\n",
    "            if x <= tar_sum:\n",
    "#                 print(x, tar_sum, arr, cur_out)\n",
    "                cur_out.append(x)\n",
    "#                 print(x, tar_sum, arr, cur_out)\n",
    "                self._solve(out, arr[i:], tar_sum - x, cur_out) # traverse the arr\n",
    "#                 print(x, tar_sum, arr, cur_out)\n",
    "                cur_out.pop() \n",
    "                # if dfser returns without adding to out, then get rid of the intermediate"
   ]
  },
  {
   "cell_type": "code",
   "execution_count": 16,
   "metadata": {
    "ExecuteTime": {
     "end_time": "2017-03-29T13:38:20.733446",
     "start_time": "2017-03-29T13:38:20.727524"
    },
    "collapsed": false,
    "scrolled": false
   },
   "outputs": [
    {
     "name": "stdout",
     "output_type": "stream",
     "text": [
      "[]\n",
      "[[1, 1, 1, 3], [1, 1, 2, 2], [1, 1.5, 1.5, 2], [1.5, 1.5, 1.5, 1.5]]\n",
      "[[1, 1, 4], [1, 2, 3], [1.5, 1.5, 3], [2, 2, 2]]\n",
      "[[1, 1, 3, 4]]\n"
     ]
    }
   ],
   "source": [
    "for testz in [\n",
    "    ([2, 3, 6], 7, 5), \n",
    "    ([4, 2, 1, 3, 1.5], 6, 4),\n",
    "    ([4, 2, 1, 3, 1.5], 6, 3),\n",
    "    ([1, 3, 5, 8, 4], 9, 4)\n",
    "    ]:\n",
    "    print(SumInArray.solve(*testz))"
   ]
  },
  {
   "cell_type": "code",
   "execution_count": 17,
   "metadata": {
    "ExecuteTime": {
     "end_time": "2017-03-29T13:38:20.746267",
     "start_time": "2017-03-29T13:38:20.734934"
    },
    "collapsed": true
   },
   "outputs": [],
   "source": [
    "def solve(arr, tar_sum, max_n):\n",
    "    \n",
    "    def _solve(out, arr, tar_sum, cur_out):\n",
    "        if tar_sum == 0:\n",
    "            out.append([x for x in cur_out])\n",
    "            return\n",
    "\n",
    "        for i, x in enumerate(arr):\n",
    "            if x <= tar_sum:\n",
    "#                 print(x, tar_sum, arr, cur_out)\n",
    "                cur_out.append(x)\n",
    "#                 print(x, tar_sum, arr, cur_out)\n",
    "                _solve(out, arr[i + 1:], tar_sum - x, cur_out)\n",
    "#                 print(x, tar_sum, arr, cur_out)\n",
    "                cur_out.pop() \n",
    "                # if _solve returns without appending to out, then get rid of the intermediate\n",
    "                \n",
    "    arr.sort()\n",
    "    out = []\n",
    "    cur_out = []\n",
    "    _solve(out, arr, tar_sum, cur_out)\n",
    "    out = filter(lambda x: len(x) == max_n, out)\n",
    "    return out\n"
   ]
  },
  {
   "cell_type": "code",
   "execution_count": 18,
   "metadata": {
    "ExecuteTime": {
     "end_time": "2017-03-29T13:38:20.756696",
     "start_time": "2017-03-29T13:38:20.747689"
    },
    "collapsed": false
   },
   "outputs": [
    {
     "name": "stdout",
     "output_type": "stream",
     "text": [
      "[]\n",
      "[]\n",
      "[[1, 2, 3]]\n",
      "[]\n"
     ]
    }
   ],
   "source": [
    "for testz in [\n",
    "    ([2, 3, 6], 7, 5), \n",
    "    ([4, 2, 1, 3, 1.5], 6, 4),\n",
    "    ([4, 2, 1, 3, 1.5], 6, 3),\n",
    "    ([1, 3, 5, 8, 4], 9, 4)\n",
    "    ]:\n",
    "    print(solve(*testz))"
   ]
  },
  {
   "cell_type": "code",
   "execution_count": 19,
   "metadata": {
    "ExecuteTime": {
     "end_time": "2017-03-29T13:38:20.773002",
     "start_time": "2017-03-29T13:38:20.758910"
    },
    "collapsed": true
   },
   "outputs": [],
   "source": [
    "class SumInArray(object):\n",
    "\n",
    "    @staticmethod\n",
    "    def solve(arr, tar_sum, max_n):\n",
    "        arr.sort()\n",
    "        out = []\n",
    "        cur_out = []\n",
    "        _solve(out, arr, tar_sum, cur_out)\n",
    "        out = filter(lambda x: len(x) == max_n, out)\n",
    "        return out\n",
    "    \n",
    "    @staticmethod\n",
    "    def _solve(out, arr, tar_sum, cur_out):\n",
    "        if tar_sum == 0:\n",
    "            out.append([x for x in cur_out])\n",
    "            return # lol mutable arguments\n",
    "\n",
    "        for i, x in enumerate(arr):\n",
    "            if x <= tar_sum:\n",
    "                cur_out.append(x)\n",
    "                _solve(out, arr[i:], tar_sum - x, cur_out) # traverse the arr\n",
    "                cur_out.pop() \n",
    "                # if dfser returns without adding to out, then get rid of the intermediate"
   ]
  },
  {
   "cell_type": "code",
   "execution_count": 22,
   "metadata": {
    "ExecuteTime": {
     "end_time": "2017-03-29T13:38:51.823198",
     "start_time": "2017-03-29T13:38:51.803145"
    },
    "collapsed": false
   },
   "outputs": [
    {
     "data": {
      "text/plain": [
       "dict_proxy({'__dict__': <attribute '__dict__' of 'SumInArray' objects>,\n",
       "            '__doc__': None,\n",
       "            '__module__': '__main__',\n",
       "            '__weakref__': <attribute '__weakref__' of 'SumInArray' objects>,\n",
       "            '_solve': <staticmethod at 0x106a459f0>,\n",
       "            'solve': <staticmethod at 0x1069a1750>})"
      ]
     },
     "execution_count": 22,
     "metadata": {},
     "output_type": "execute_result"
    }
   ],
   "source": [
    "SumInArray.__dict__"
   ]
  },
  {
   "cell_type": "code",
   "execution_count": 23,
   "metadata": {
    "ExecuteTime": {
     "end_time": "2017-03-29T13:38:53.427499",
     "start_time": "2017-03-29T13:38:53.419191"
    },
    "collapsed": true
   },
   "outputs": [],
   "source": [
    "#hindex\n",
    "class HIndex(object):\n",
    "    @staticmethod\n",
    "    def solve(citations):\n",
    "        \"\"\"\n",
    "        :type citations: List[int]\n",
    "        :rtype: int\n",
    "        \"\"\"\n",
    "        if citations == [] or citations is None or max(citations) == 0:\n",
    "            return 0\n",
    "        \n",
    "        n_papers = len(citations)\n",
    "        # citations.sort(reverse=True)\n",
    "                    \n",
    "        for x in range(max(citations), 0, -1):\n",
    "            # print(x, filter(lambda c: c < x, citations), filter(lambda c: c >= x, citations))\n",
    "            \n",
    "            # n-h < h\n",
    "            if len(filter(lambda c: c < x, citations)) <= n_papers - x:\n",
    "                # top h >= h\n",
    "                if len(filter(lambda c: c >= x, citations)) >= x:\n",
    "                    return x\n",
    "        return x"
   ]
  },
  {
   "cell_type": "code",
   "execution_count": 24,
   "metadata": {
    "ExecuteTime": {
     "end_time": "2017-03-29T13:38:53.601508",
     "start_time": "2017-03-29T13:38:53.595747"
    },
    "collapsed": false
   },
   "outputs": [],
   "source": [
    "test_res = [HIndex.solve(test) for test in [[3, 0, 6, 1, 5],\n",
    "    [0, 1, 2], [0, 0, 4, 4], [1, 2, 1, 0], [0, 1, 0], [0],\n",
    "    [1,1,3,6,7,10,7,1,8,5,9,1,4,4,3]]]\n",
    "\n",
    "assert test_res == [3, 1, 2, 1, 1, 0, 6]"
   ]
  },
  {
   "cell_type": "code",
   "execution_count": 25,
   "metadata": {
    "ExecuteTime": {
     "end_time": "2017-03-29T13:38:55.300253",
     "start_time": "2017-03-29T13:38:54.180612"
    },
    "collapsed": true
   },
   "outputs": [],
   "source": [
    "import numpy as np\n",
    "import pandas as pd\n",
    "\n",
    "def sb_cutz(x, bins=10):\n",
    "    return pd.cut(x.rank(method='min', pct=True), bins=np.linspace(0, 1, bins + 1))"
   ]
  },
  {
   "cell_type": "code",
   "execution_count": 26,
   "metadata": {
    "ExecuteTime": {
     "end_time": "2017-03-29T13:38:55.306146",
     "start_time": "2017-03-29T13:38:55.301848"
    },
    "collapsed": false
   },
   "outputs": [],
   "source": [
    "def is_anagram(str1, str2):\n",
    "    return sorted(str1) == sorted(str2) if str1 and str2 else None"
   ]
  },
  {
   "cell_type": "code",
   "execution_count": 27,
   "metadata": {
    "ExecuteTime": {
     "end_time": "2017-03-29T13:38:55.313266",
     "start_time": "2017-03-29T13:38:55.308453"
    },
    "collapsed": false
   },
   "outputs": [],
   "source": [
    "assert is_anagram('weed', 'dwee')\n",
    "assert not is_anagram('weed', 'dweee')\n",
    "assert is_anagram(None, None) is None\n",
    "assert is_anagram('acts', 'cats')\n",
    "assert not is_anagram('acts', 'stack')"
   ]
  },
  {
   "cell_type": "code",
   "execution_count": 28,
   "metadata": {
    "ExecuteTime": {
     "end_time": "2017-03-29T13:38:55.401356",
     "start_time": "2017-03-29T13:38:55.394279"
    },
    "collapsed": true
   },
   "outputs": [],
   "source": [
    "from collections import Counter, defaultdict\n",
    "def most_freq(array):\n",
    "    return Counter(array).most_common(1)[0][0]\n",
    "\n",
    "def most_freq(array):\n",
    "    return max(array, key=lambda x: len([a for a in array if a == x]))\n",
    "\n",
    "def most_freq(array):\n",
    "    if_u_want = defaultdict(int)\n",
    "#     if_u_want = {}  # i got youuuu\n",
    "    for x in array:\n",
    "        if_u_want[x] += 1\n",
    "    return max(if_u_want, key=if_u_want.get)\n",
    "    "
   ]
  },
  {
   "cell_type": "code",
   "execution_count": 29,
   "metadata": {
    "ExecuteTime": {
     "end_time": "2017-03-29T13:38:55.993175",
     "start_time": "2017-03-29T13:38:55.988397"
    },
    "collapsed": false
   },
   "outputs": [
    {
     "name": "stdout",
     "output_type": "stream",
     "text": [
      "1\n",
      "100\n",
      "420\n"
     ]
    }
   ],
   "source": [
    "print(most_freq([1,2,1,1,3,4,2]))\n",
    "print(most_freq([100]))\n",
    "print(most_freq([69, 69, 69, 420, 420, 420, 420]))"
   ]
  },
  {
   "cell_type": "code",
   "execution_count": 30,
   "metadata": {
    "ExecuteTime": {
     "end_time": "2017-03-29T13:38:56.479277",
     "start_time": "2017-03-29T13:38:56.472582"
    },
    "collapsed": false
   },
   "outputs": [],
   "source": [
    "from itertools import izip_longest\n",
    "\n",
    "def roman_numeral(num_str):\n",
    "    cur_val = 0\n",
    "    harambe = {'M': 1000, 'D': 500, 'C': 100, 'L': 50, 'X': 10, 'V': 5, 'I': 1}\n",
    "\n",
    "    for x, y in izip_longest(num_str, num_str[1:]):\n",
    "        x = harambe[x]\n",
    "        y = harambe.get(y, 0)\n",
    "        if x < y:\n",
    "            x = -x\n",
    "        cur_val += x\n",
    "    return cur_val"
   ]
  },
  {
   "cell_type": "code",
   "execution_count": 31,
   "metadata": {
    "ExecuteTime": {
     "end_time": "2017-03-29T13:38:56.962155",
     "start_time": "2017-03-29T13:38:56.955409"
    },
    "collapsed": false
   },
   "outputs": [
    {
     "data": {
      "text/plain": [
       "45"
      ]
     },
     "execution_count": 31,
     "metadata": {},
     "output_type": "execute_result"
    }
   ],
   "source": [
    "assert roman_numeral('MCMXXIV') == 1924\n",
    "assert roman_numeral('DLVI') == 556 \n",
    "assert roman_numeral('CM') == 900\n",
    "assert roman_numeral('CDXX') == 420\n",
    "assert roman_numeral('LXIX') == 69\n",
    "# rigby = ''.join(['M' * 42, 'LXIX'])\n",
    "assert roman_numeral('MMMMMMMMMMMMMMMMMMMMMMMMMMMMMMMMMMMMMMMMMMLXIX') == 42069\n",
    "roman_numeral('XLV')"
   ]
  },
  {
   "cell_type": "code",
   "execution_count": 32,
   "metadata": {
    "ExecuteTime": {
     "end_time": "2017-03-29T13:38:57.450099",
     "start_time": "2017-03-29T13:38:57.445372"
    },
    "collapsed": false
   },
   "outputs": [
    {
     "data": {
      "text/plain": [
       "49"
      ]
     },
     "execution_count": 32,
     "metadata": {},
     "output_type": "execute_result"
    }
   ],
   "source": [
    "roman_numeral('IL')"
   ]
  },
  {
   "cell_type": "code",
   "execution_count": 33,
   "metadata": {
    "ExecuteTime": {
     "end_time": "2017-03-29T13:38:57.746584",
     "start_time": "2017-03-29T13:38:57.737570"
    },
    "collapsed": true
   },
   "outputs": [],
   "source": [
    "from collections import Counter, defaultdict\n",
    "class Solution(object):\n",
    "    \n",
    "    # def get_counts(self, nums):\n",
    "        # return [(k, len([n for n in nums if n == k])) for k in nums]\n",
    "    \n",
    "    def topKFrequent(self, nums, k):\n",
    "        \"\"\"\n",
    "        :type nums: List[int]\n",
    "        :type k: int\n",
    "        :rtype: List[int]\n",
    "        \"\"\"\n",
    "        #return [k for k, v in Counter(nums).most_common(k)]\n",
    "        # num_cts = self.get_counts(nums)\n",
    "        # num_cts = sorted(num_cts, key=lambda x: x[-1], reverse=True)\n",
    "        # out = []\n",
    "        \n",
    "        # for n in num_cts:\n",
    "        #     if n[0] not in out:\n",
    "        #         out.append(n[0])\n",
    "        #     if len(out) == k:\n",
    "        #         return out\n",
    "        # return nums\n",
    "        \n",
    "        num_counts = defaultdict(lambda: 0)\n",
    "        for n in nums:\n",
    "            num_counts[n] += 1\n",
    "        tar = sorted(num_counts.values(), reverse=True)[k - 1]\n",
    "        return [n for n, v in num_counts.items() if v >= tar]"
   ]
  },
  {
   "cell_type": "code",
   "execution_count": 39,
   "metadata": {
    "ExecuteTime": {
     "end_time": "2017-03-29T13:39:35.691849",
     "start_time": "2017-03-29T13:39:35.681643"
    },
    "collapsed": true
   },
   "outputs": [],
   "source": [
    "from random import randint\n",
    "class Solution(object):\n",
    "\n",
    "    def __init__(self, nums):\n",
    "        \"\"\"\n",
    "        \n",
    "        :type nums: List[int]\n",
    "        :type numsSize: int\n",
    "        \"\"\"\n",
    "        self.nums = nums\n",
    "        \n",
    "\n",
    "    def pick(self, target):\n",
    "        \"\"\"\n",
    "        :type target: int\n",
    "        :rtype: int\n",
    "        \"\"\"\n",
    "        idxs = []\n",
    "        cur_idx = 0\n",
    "        for i, x in enumerate(self.nums):\n",
    "            if x == target:\n",
    "                idxs.append(i)\n",
    "        return idxs[randint(0, len(idxs) - 1)]\n",
    "        "
   ]
  },
  {
   "cell_type": "code",
   "execution_count": 40,
   "metadata": {
    "ExecuteTime": {
     "end_time": "2017-03-29T13:39:35.867823",
     "start_time": "2017-03-29T13:39:35.861911"
    },
    "collapsed": false
   },
   "outputs": [
    {
     "data": {
      "text/plain": [
       "3"
      ]
     },
     "execution_count": 40,
     "metadata": {},
     "output_type": "execute_result"
    }
   ],
   "source": [
    "sln = Solution([420, 420, 420, 69])\n",
    "sln.pick(420)\n",
    "sln.pick(69)"
   ]
  },
  {
   "cell_type": "code",
   "execution_count": 36,
   "metadata": {
    "ExecuteTime": {
     "end_time": "2017-03-29T13:39:00.480092",
     "start_time": "2017-03-29T13:39:00.472848"
    },
    "collapsed": true
   },
   "outputs": [],
   "source": [
    "# i forget what leetcode this is but ur supposed to reverse the order of vowels\n",
    "\n",
    "class Solution(object):\n",
    "    def reverseVowels(self, s):\n",
    "        \"\"\"\n",
    "        :type s: str\n",
    "        :rtype: str\n",
    "        \"\"\"\n",
    "        vowel_set = {'a', 'e', 'i', 'o', 'u'}\n",
    "        vowels = []\n",
    "        str_out = []\n",
    "        for c in s:\n",
    "            if c.lower() in vowel_set:\n",
    "                vowels.append(c)\n",
    "                str_out.append('{}')\n",
    "            else:\n",
    "                str_out.append(c)\n",
    "\n",
    "        return ''.join(str_out).format(*vowels[::-1])"
   ]
  },
  {
   "cell_type": "code",
   "execution_count": 37,
   "metadata": {
    "ExecuteTime": {
     "end_time": "2017-03-29T13:39:01.062782",
     "start_time": "2017-03-29T13:39:01.058191"
    },
    "collapsed": false
   },
   "outputs": [
    {
     "data": {
      "text/plain": [
       "'leotcede'"
      ]
     },
     "execution_count": 37,
     "metadata": {},
     "output_type": "execute_result"
    }
   ],
   "source": [
    "Solution().reverseVowels('leetcode')"
   ]
  },
  {
   "cell_type": "code",
   "execution_count": 41,
   "metadata": {
    "ExecuteTime": {
     "end_time": "2017-03-29T13:39:56.722897",
     "start_time": "2017-03-29T13:39:56.713604"
    },
    "collapsed": true
   },
   "outputs": [],
   "source": [
    "# leetcode 374\n",
    "\n",
    "# The guess API is already defined for you.\n",
    "# @param num, your guess\n",
    "# @return -1 if my number is lower, 1 if my number is higher, otherwise return 0\n",
    "# def guess(num):\n",
    "\n",
    "class Solution(object):\n",
    "    def guessNumber(self, n):\n",
    "        \"\"\"\n",
    "        :type n: int\n",
    "        :rtype: int\n",
    "        \"\"\"\n",
    "        cur_guess = n / 2\n",
    "        last_low = 0\n",
    "        last_high = n\n",
    "        while True:\n",
    "            res = guess(cur_guess)\n",
    "            print(cur_guess, res)\n",
    "            if res == 0:\n",
    "                return cur_guess\n",
    "            if res == 1:\n",
    "                last_low = cur_guess\n",
    "                cur_guess = last_high - ((last_high - cur_guess) / 2)\n",
    "            else:\n",
    "                last_high = cur_guess\n",
    "                cur_guess = last_low + (cur_guess - last_low) / 2"
   ]
  },
  {
   "cell_type": "code",
   "execution_count": 42,
   "metadata": {
    "ExecuteTime": {
     "end_time": "2017-03-29T13:39:56.958765",
     "start_time": "2017-03-29T13:39:56.944834"
    },
    "collapsed": true
   },
   "outputs": [],
   "source": [
    "\n",
    "class Solution(object):\n",
    "    def evalRPN(self, tokens):\n",
    "        \"\"\"\n",
    "        :type tokens: List[str]\n",
    "        :rtype: int\n",
    "        \"\"\"\n",
    "        if len(tokens) <= 1:\n",
    "            return int(tokens.pop())\n",
    "        \n",
    "        ops = {\n",
    "            '+': lambda a, b: a + b,\n",
    "            '-': lambda a, b: a - b,\n",
    "            '*': lambda a, b: a * b,\n",
    "            # fuck this problem and unstated expected float behavior\n",
    "            '/': lambda a, b: a / float(b)\n",
    "            }\n",
    "            \n",
    "        nums = []\n",
    "        \n",
    "        out_res = 0\n",
    "        \n",
    "        while tokens:\n",
    "            token = tokens.pop(0)\n",
    "            \n",
    "            if token in ops:\n",
    "                b = nums.pop(0)\n",
    "                a = nums.pop(0)\n",
    "                nums.insert(0, int(ops[token](a, b)))\n",
    "            else:\n",
    "                nums.insert(0, int(token))\n",
    "        \n",
    "        return nums.pop()"
   ]
  },
  {
   "cell_type": "code",
   "execution_count": 43,
   "metadata": {
    "ExecuteTime": {
     "end_time": "2017-03-29T13:39:57.139070",
     "start_time": "2017-03-29T13:39:57.129071"
    },
    "collapsed": true
   },
   "outputs": [],
   "source": [
    "# kid-rsa\n",
    "import numpy as np\n",
    "\n",
    "def gen_key():\n",
    "    a, b, a1, b1 = np.random.randint(69, size=4)\n",
    "\n",
    "    M = a * b - 1\n",
    "    e = a1 * M + a  # e = encryption\n",
    "    d = b1 * M + b  # d = decryption\n",
    "    n = (e * d) / M\n",
    "\n",
    "    return {'pub_key': {'e': e, 'n': n}, 'priv_key': {'d': d, 'n': n}}\n",
    "\n",
    "def encrypt(P, pub_key):\n",
    "    e = pub_key.get('e')\n",
    "    n = pub_key.get('n')\n",
    "    return (e * P) % n\n",
    "\n",
    "def decrypt(C, priv_key):\n",
    "    d = priv_key.get('d')\n",
    "    n = priv_key.get('n')\n",
    "    return (C * d) % n"
   ]
  },
  {
   "cell_type": "code",
   "execution_count": 70,
   "metadata": {
    "ExecuteTime": {
     "end_time": "2017-03-29T14:49:30.647431",
     "start_time": "2017-03-29T14:49:30.642968"
    },
    "collapsed": false
   },
   "outputs": [],
   "source": [
    "keyz = gen_key()\n",
    "p_chars = [ord(c) for c in 'space nugz']"
   ]
  },
  {
   "cell_type": "code",
   "execution_count": 72,
   "metadata": {
    "ExecuteTime": {
     "end_time": "2017-03-29T14:49:50.491214",
     "start_time": "2017-03-29T14:49:50.486358"
    },
    "collapsed": false
   },
   "outputs": [
    {
     "name": "stdout",
     "output_type": "stream",
     "text": [
      "[1895889, 1792395, 1274925, 1343921, 1412917, 1103936, 1723399, 1964885, 1481913, 65994]\n"
     ]
    }
   ],
   "source": [
    "encrypt(420, keyz['pub_key'])\n",
    "enc_chars = [encrypt(x, keyz['pub_key']) for x in p_chars]\n",
    "print(enc_chars)"
   ]
  },
  {
   "cell_type": "code",
   "execution_count": 73,
   "metadata": {
    "ExecuteTime": {
     "end_time": "2017-03-29T14:49:52.818976",
     "start_time": "2017-03-29T14:49:52.814867"
    },
    "collapsed": false
   },
   "outputs": [
    {
     "name": "stdout",
     "output_type": "stream",
     "text": [
      "space nugz\n"
     ]
    }
   ],
   "source": [
    "decrypt(26522, keyz['priv_key'])\n",
    "print(''.join([chr(decrypt(x, keyz['priv_key'])) for x in enc_chars]))"
   ]
  },
  {
   "cell_type": "code",
   "execution_count": 47,
   "metadata": {
    "ExecuteTime": {
     "end_time": "2017-03-29T13:40:00.202948",
     "start_time": "2017-03-29T13:40:00.175602"
    },
    "collapsed": true
   },
   "outputs": [],
   "source": [
    "# Definition for singly-linked list.\n",
    "# class ListNode(object):\n",
    "#     def __init__(self, x):\n",
    "#         self.val = x\n",
    "#         self.next = None\n",
    "\n",
    "class Solution(object):\n",
    "    def addTwoNumbers(self, l1, l2):\n",
    "        \"\"\"\n",
    "        :type l1: ListNode\n",
    "        :type l2: ListNode\n",
    "        :rtype: ListNode\n",
    "        \"\"\"\n",
    "        node1 = l1\n",
    "        node2 = l2\n",
    "        \n",
    "        \n",
    "        if node2 is None:\n",
    "            return None\n",
    "        if node1 is None:\n",
    "            return None\n",
    "        \n",
    "        carry_over = 0\n",
    "        \n",
    "        head = ListNode(l1.val + l2.val)\n",
    "        if head.val >= 10:\n",
    "            carry_over = 1\n",
    "            head.val = max([0, head.val - 10])\n",
    "\n",
    "        res_node = head\n",
    "        \n",
    "        while node1 or node2:\n",
    "            node1 = node1.next if node1 else None\n",
    "            node2 = node2.next if node2 else None\n",
    "            n1v = node1.val if node1 else 0\n",
    "            n2v = node2.val if node2 else 0\n",
    "            \n",
    "            if (node1 is not None) or (node2 is not None):\n",
    "                res_node.next = ListNode(n1v + n2v)\n",
    "                if carry_over:\n",
    "                    res_node.next.val += carry_over\n",
    "                    carry_over = 0\n",
    "                if res_node.next.val >= 10:\n",
    "                    carry_over = 1\n",
    "                    res_node.next.val = max([0, res_node.next.val - 10])\n",
    "                res_node = res_node.next\n",
    "            \n",
    "            elif carry_over:\n",
    "                res_node.next = ListNode(carry_over)\n",
    "                carry_over = 0\n",
    "            \n",
    "            \n",
    "        if carry_over:\n",
    "                res_node.next = ListNode(carry_over)\n",
    "        return head\n",
    "            "
   ]
  },
  {
   "cell_type": "code",
   "execution_count": 48,
   "metadata": {
    "ExecuteTime": {
     "end_time": "2017-03-29T13:40:00.805577",
     "start_time": "2017-03-29T13:40:00.800357"
    },
    "collapsed": false
   },
   "outputs": [
    {
     "name": "stdout",
     "output_type": "stream",
     "text": [
      "[ 0.63408917  0.45135462  0.86867808  0.55852631  0.67674087  0.77767183\n",
      "  0.1342386   0.56001605  0.98748052  0.8904531 ]\n"
     ]
    }
   ],
   "source": [
    "test = np.random.random(10)\n",
    "print(test)"
   ]
  },
  {
   "cell_type": "code",
   "execution_count": 49,
   "metadata": {
    "ExecuteTime": {
     "end_time": "2017-03-29T13:40:01.198773",
     "start_time": "2017-03-29T13:40:01.193680"
    },
    "collapsed": false
   },
   "outputs": [
    {
     "data": {
      "text/plain": [
       "array([6])"
      ]
     },
     "execution_count": 49,
     "metadata": {},
     "output_type": "execute_result"
    }
   ],
   "source": [
    "np.where(test < .2)[0]"
   ]
  },
  {
   "cell_type": "code",
   "execution_count": 50,
   "metadata": {
    "ExecuteTime": {
     "end_time": "2017-03-29T13:40:01.830749",
     "start_time": "2017-03-29T13:40:01.826169"
    },
    "collapsed": false
   },
   "outputs": [
    {
     "data": {
      "text/plain": [
       "[1, 3, 5, 7, 9]"
      ]
     },
     "execution_count": 50,
     "metadata": {},
     "output_type": "execute_result"
    }
   ],
   "source": [
    "range(1, 10, 2)"
   ]
  },
  {
   "cell_type": "code",
   "execution_count": 51,
   "metadata": {
    "ExecuteTime": {
     "end_time": "2017-03-29T13:40:02.273887",
     "start_time": "2017-03-29T13:40:02.268902"
    },
    "collapsed": false
   },
   "outputs": [
    {
     "data": {
      "text/plain": [
       "[0, 1, 2, 3, 4]"
      ]
     },
     "execution_count": 51,
     "metadata": {},
     "output_type": "execute_result"
    }
   ],
   "source": [
    "[(i - 1) / 2 for i in range(1, 10, 2)]"
   ]
  },
  {
   "cell_type": "code",
   "execution_count": 52,
   "metadata": {
    "ExecuteTime": {
     "end_time": "2017-03-29T13:40:05.674752",
     "start_time": "2017-03-29T13:40:05.672139"
    },
    "collapsed": true
   },
   "outputs": [],
   "source": [
    "import operator"
   ]
  },
  {
   "cell_type": "code",
   "execution_count": 54,
   "metadata": {
    "ExecuteTime": {
     "end_time": "2017-03-29T13:40:06.771321",
     "start_time": "2017-03-29T13:40:06.760102"
    },
    "collapsed": true
   },
   "outputs": [],
   "source": [
    "#leetcode 463\n",
    "\n",
    "class Solution(object):\n",
    "    def islandPerimeter(self, grid):\n",
    "        \"\"\"\n",
    "        :type grid: List[List[int]]\n",
    "        :rtype: int\n",
    "        \"\"\"\n",
    "        \n",
    "        row_len = len(grid[0])\n",
    "        grid = [[0] * row_len] + grid + [[0] * row_len]\n",
    "        grid = [[0] + row + [0] for row in grid] \n",
    "        \n",
    "        res = 0\n",
    "        \n",
    "        for cur_row, next_row in zip(grid, grid[1:]):\n",
    "            for i, x in enumerate(zip(cur_row, cur_row[1:])):\n",
    "                x, next_x = x\n",
    "                if x == 1 and next_x == 0:\n",
    "                    res += 1\n",
    "                if x == 0 and next_x == 1:\n",
    "                    res += 1\n",
    "                if x == 1 and next_row[i] == 0:\n",
    "                    res += 1\n",
    "                if x == 0 and next_row[i] == 1:\n",
    "                    res += 1\n",
    "        return res"
   ]
  },
  {
   "cell_type": "code",
   "execution_count": 55,
   "metadata": {
    "ExecuteTime": {
     "end_time": "2017-03-29T13:40:08.238364",
     "start_time": "2017-03-29T13:40:08.223980"
    },
    "collapsed": true
   },
   "outputs": [],
   "source": [
    "# leetcode 88\n",
    "# this one is dumb af - the problem doesn't really match the specification\n",
    "# and/or it's not well suited to python really.\n",
    "# still, this is one of the worst implementations and i need to clean it\n",
    "\n",
    "class Solution(object):\n",
    "    def merge(self, nums1, m, nums2, n):\n",
    "        \"\"\"\n",
    "        :type nums1: List[int]\n",
    "        :type m: int\n",
    "        :type nums2: List[int]\n",
    "        :type n: int\n",
    "        :rtype: void Do not return anything, modify nums1 in-place instead.\n",
    "        \"\"\"\n",
    "        if nums2 == []:\n",
    "            return\n",
    "        if m == 0:\n",
    "            while nums1:\n",
    "                nums1.pop()\n",
    "            nums1 += nums2\n",
    "            return\n",
    "        \n",
    "        while len(nums1) > m:\n",
    "            nums1.pop(-1)\n",
    "        while len(nums2) > n:\n",
    "            nums2.pop(-1)\n",
    "        \n",
    "        idx1 = 0\n",
    "        idx2 = 0\n",
    "        while idx1 <= (m + n - 1):\n",
    "            try:\n",
    "                if nums1[idx1] > nums2[idx2]:\n",
    "                    nums1.insert(idx1, nums2[idx2])\n",
    "                    idx1 += 1\n",
    "                    idx2 += 1\n",
    "                else:\n",
    "                    idx1 += 1\n",
    "            except IndexError:\n",
    "                nums1 += nums2[idx2:]\n",
    "                return\n",
    "                \n",
    "        return"
   ]
  },
  {
   "cell_type": "code",
   "execution_count": 56,
   "metadata": {
    "ExecuteTime": {
     "end_time": "2017-03-29T13:40:21.060103",
     "start_time": "2017-03-29T13:40:21.054303"
    },
    "collapsed": false
   },
   "outputs": [
    {
     "data": {
      "text/plain": [
       "1"
      ]
     },
     "execution_count": 56,
     "metadata": {},
     "output_type": "execute_result"
    }
   ],
   "source": [
    "min({1: 1, 2:1}, key=lambda x: 1)"
   ]
  },
  {
   "cell_type": "code",
   "execution_count": 57,
   "metadata": {
    "ExecuteTime": {
     "end_time": "2017-03-29T13:40:21.855413",
     "start_time": "2017-03-29T13:40:21.824069"
    },
    "collapsed": true
   },
   "outputs": [],
   "source": [
    "#leetcode 460 LFU cache\n",
    "#https://leetcode.com/problems/lfu-cache/\n",
    "\n",
    "from datetime import datetime as time\n",
    "class LFUCache(object):\n",
    "\n",
    "    def __init__(self, capacity):\n",
    "        \"\"\"\n",
    "        \n",
    "        :type capacity: int\n",
    "        \"\"\"\n",
    "        self.capacity = capacity\n",
    "        self.res_dict = {}\n",
    "        self.used_dict = {}\n",
    "        self.lru = {}\n",
    "        self.full = lambda: len(self.res_dict) == self.capacity\n",
    "\n",
    "\n",
    "    def get(self, key):\n",
    "        \"\"\"\n",
    "        :type key: int\n",
    "        :rtype: int\n",
    "        \"\"\"\n",
    "        try:\n",
    "            self.used_dict[key] += 1\n",
    "            self.lru[key] = time.now()\n",
    "        except KeyError:\n",
    "            pass\n",
    "        return self.res_dict.get(key, -1)\n",
    "\n",
    "    def set(self, key, value):\n",
    "        \"\"\"\n",
    "        :type key: int\n",
    "        :type value: int\n",
    "        :rtype: void\n",
    "        \"\"\"\n",
    "        if self.capacity == 0:\n",
    "            return -1\n",
    "\n",
    "        if self.full() and key not in self.res_dict:\n",
    "            lfu_value = min(self.used_dict.values())\n",
    "            pos_keys = [k for k, v in self.used_dict.items() if v == lfu_value]\n",
    "            lfu_key = pos_keys[0] if len(pos_keys) == 1 else min(pos_keys, key=lambda x: self.lru.get(x))\n",
    "            \n",
    "            del self.res_dict[lfu_key]\n",
    "            del self.lru[lfu_key]\n",
    "            del self.used_dict[lfu_key]\n",
    "            \n",
    "            \n",
    "        if key in self.used_dict:\n",
    "            self.used_dict[key] += 1\n",
    "        else:\n",
    "            self.used_dict[key] = 1\n",
    "        self.res_dict[key] = value\n",
    "        self.lru[key] = time.now()\n",
    "        return\n",
    "        \n",
    "\n",
    "\n",
    "# Your LFUCache object will be instantiated and called as such:\n",
    "# obj = LFUCache(capacity)\n",
    "# param_1 = obj.get(key)\n",
    "# obj.set(key,value)"
   ]
  },
  {
   "cell_type": "code",
   "execution_count": 58,
   "metadata": {
    "ExecuteTime": {
     "end_time": "2017-03-29T13:40:23.060591",
     "start_time": "2017-03-29T13:40:23.054754"
    },
    "collapsed": false
   },
   "outputs": [
    {
     "name": "stdout",
     "output_type": "stream",
     "text": [
      "-1\n",
      "-1\n",
      "2\n",
      "6\n"
     ]
    }
   ],
   "source": [
    "lfcache = LFUCache(2)\n",
    "for args in [[2],[2,6],[1],[1,5],[1,2],[1],[2]]:\n",
    "    if len(args) > 1:\n",
    "        lfcache.set(*args)\n",
    "    else:\n",
    "        print(lfcache.get(*args))"
   ]
  },
  {
   "cell_type": "code",
   "execution_count": 59,
   "metadata": {
    "ExecuteTime": {
     "end_time": "2017-03-29T13:40:23.455518",
     "start_time": "2017-03-29T13:40:23.438887"
    },
    "collapsed": true
   },
   "outputs": [],
   "source": [
    "# from datetime import datetime\n",
    "class LRUCache(object):\n",
    "\n",
    "    def __init__(self, capacity):\n",
    "        \"\"\"\n",
    "        :type capacity: int\n",
    "        \"\"\"\n",
    "        self.capacity = capacity\n",
    "        self.cached = {}\n",
    "        self.lrus = []\n",
    "        return\n",
    "    \n",
    "    def full(self):\n",
    "        return len(self.cached) == self.capacity\n",
    "        \n",
    "\n",
    "    def get(self, key):\n",
    "        \"\"\"\n",
    "        :rtype: int\n",
    "        \"\"\"\n",
    "        out_val = self.cached.get(key, -1)\n",
    "        \n",
    "        if out_val >= 0:\n",
    "            self.lrus.remove(key)\n",
    "            self.lrus.append(key)\n",
    "\n",
    "        return out_val\n",
    "        \n",
    "\n",
    "    def set(self, key, value):\n",
    "        \"\"\"\n",
    "        :type key: int\n",
    "        :type value: int\n",
    "        :rtype: nothing\n",
    "        \"\"\"\n",
    "        if self.full() and key not in self.cached:\n",
    "            rm_key = self.lrus.pop(0)\n",
    "            del self.cached[rm_key]\n",
    "        \n",
    "        if key in self.lrus:\n",
    "            self.lrus.remove(key)\n",
    "        \n",
    "        self.lrus.append(key)\n",
    "        self.cached[key] = value\n",
    "        return"
   ]
  },
  {
   "cell_type": "code",
   "execution_count": 60,
   "metadata": {
    "ExecuteTime": {
     "end_time": "2017-03-29T13:40:23.954154",
     "start_time": "2017-03-29T13:40:23.943772"
    },
    "collapsed": true
   },
   "outputs": [],
   "source": [
    "#leetcode 125 \n",
    "# https://leetcode.com/problems/valid-palindrome/\n",
    "# this is unfun and unsatisfying\n",
    "\n",
    "import string\n",
    "class Solution(object):\n",
    "    def isPalindrome(self, s):\n",
    "        \"\"\"\n",
    "        :type s: str\n",
    "        :rtype: bool\n",
    "        \"\"\"\n",
    "        # s = ''.join([c for c in s if c.isalnum()]).lower()\n",
    "        # s = s.lower().strip().replace(' ', '')\n",
    "        # should just be s.translate(None, string.punctuation) but py2k on leetcode\n",
    "        s = s.translate({ord(k): None for k in string.punctuation}).lower().replace(' ', '')\n",
    "        \n",
    "        # return self._pal(s)\n",
    "        if s == '' or len(s) == 1:\n",
    "            return True\n",
    "        return s == ''.join(reversed(s))\n",
    "        \n",
    "    def _pal(self, s):\n",
    "        if s == '':\n",
    "            return True\n",
    "        if s[0] != s[-1]:\n",
    "            return False\n",
    "        return self.isPalindrome(s[1:-1])\n",
    "        "
   ]
  },
  {
   "cell_type": "code",
   "execution_count": 61,
   "metadata": {
    "ExecuteTime": {
     "end_time": "2017-03-29T13:40:24.476237",
     "start_time": "2017-03-29T13:40:24.471320"
    },
    "collapsed": true
   },
   "outputs": [],
   "source": [
    "# leetcode 190\n",
    "# https://leetcode.com/problems/reverse-bits/\n",
    "\n",
    "class Solution:\n",
    "    # @param n, an integer\n",
    "    # @return an integer\n",
    "    def reverseBits(self, n):\n",
    "        n = bin(n)[2:][::-1]\n",
    "        n = n.ljust(32, '0')\n",
    "        return int(n, 2)\n",
    "        "
   ]
  },
  {
   "cell_type": "code",
   "execution_count": 62,
   "metadata": {
    "ExecuteTime": {
     "end_time": "2017-03-29T13:40:24.827883",
     "start_time": "2017-03-29T13:40:24.823568"
    },
    "collapsed": false
   },
   "outputs": [
    {
     "data": {
      "text/plain": [
       "[True, False, True, True]"
      ]
     },
     "execution_count": 62,
     "metadata": {},
     "output_type": "execute_result"
    }
   ],
   "source": [
    "[s1 == s2 for s1, s2 in zip('asdf', 'abdf')]"
   ]
  },
  {
   "cell_type": "code",
   "execution_count": 63,
   "metadata": {
    "ExecuteTime": {
     "end_time": "2017-03-29T13:40:25.209633",
     "start_time": "2017-03-29T13:40:25.206621"
    },
    "collapsed": false
   },
   "outputs": [],
   "source": [
    "test = bytearray(bin(4 ^ 2))"
   ]
  },
  {
   "cell_type": "code",
   "execution_count": 64,
   "metadata": {
    "ExecuteTime": {
     "end_time": "2017-03-29T13:40:25.435747",
     "start_time": "2017-03-29T13:40:25.423012"
    },
    "collapsed": false
   },
   "outputs": [
    {
     "name": "stdout",
     "output_type": "stream",
     "text": [
      "('0b0', '0b1')\n",
      "1\n",
      "('0b1', '0b10')\n",
      "3\n",
      "('0b11', '0b1')\n",
      "2\n",
      "('0b10', '0b10')\n",
      "0\n",
      "('0b0', '0b11')\n",
      "3\n",
      "('0b11', '0b11')\n",
      "0\n",
      "('0b0', '0b100')\n",
      "4\n"
     ]
    },
    {
     "data": {
      "text/plain": [
       "4"
      ]
     },
     "execution_count": 64,
     "metadata": {},
     "output_type": "execute_result"
    }
   ],
   "source": [
    "class Solution(object):\n",
    "    def singleNumber(self, nums):\n",
    "        a = 0\n",
    "        for x in nums:\n",
    "            print(bin(a), bin(x))\n",
    "            a ^= x\n",
    "            print(a)\n",
    "        return a\n",
    "\n",
    "Solution().singleNumber([1, 2, 1, 2, 3, 3, 4])"
   ]
  },
  {
   "cell_type": "code",
   "execution_count": 65,
   "metadata": {
    "ExecuteTime": {
     "end_time": "2017-03-29T13:40:25.810900",
     "start_time": "2017-03-29T13:40:25.800413"
    },
    "collapsed": false
   },
   "outputs": [],
   "source": [
    "# Definition for singly-linked list.\n",
    "class ListNode(object):\n",
    "    def __init__(self, x):\n",
    "        self.val = x\n",
    "        self.next = None\n",
    "\n",
    "                \n",
    "class Solution(object):\n",
    "    def getIntersectionNode(self, headA, headB):\n",
    "        \"\"\"\n",
    "        :type head1, head1: ListNode\n",
    "        :rtype: ListNode\n",
    "        \"\"\"\n",
    "        if headA == [] or headA is None or headB is None or headB == []:\n",
    "            return None\n",
    "        \n",
    "        n1 = headA\n",
    "        n2 = headB\n",
    "        \n",
    "        while n1 != n2:\n",
    "            print(\"{} \\n{} \\n{} \\n\".format(n1.__dict__, n2.__dict__, '-' * 69))\n",
    "            n1 = n1.next if n1 else headB\n",
    "            n2 = n2.next if n2 else headA\n",
    "        return n1"
   ]
  },
  {
   "cell_type": "code",
   "execution_count": 66,
   "metadata": {
    "ExecuteTime": {
     "end_time": "2017-03-29T13:40:26.291642",
     "start_time": "2017-03-29T13:40:26.281191"
    },
    "collapsed": false
   },
   "outputs": [
    {
     "name": "stdout",
     "output_type": "stream",
     "text": [
      "{'val': 1, 'next': <__main__.ListNode object at 0x113c9a110>} \n",
      "{'val': 420, 'next': <__main__.ListNode object at 0x113c9a310>} \n",
      "--------------------------------------------------------------------- \n",
      "\n",
      "{'val': 2, 'next': <__main__.ListNode object at 0x113c9a150>} \n",
      "{'val': 69, 'next': <__main__.ListNode object at 0x113c9a150>} \n",
      "--------------------------------------------------------------------- \n",
      "\n"
     ]
    },
    {
     "data": {
      "text/plain": [
       "3"
      ]
     },
     "execution_count": 66,
     "metadata": {},
     "output_type": "execute_result"
    }
   ],
   "source": [
    "l1 = [ListNode(x) for x in [1, 2, 3, 4]] + [None]\n",
    "for n1, n2 in zip(l1, l1[1:]):\n",
    "    n1.next = n2\n",
    "\n",
    "l2 = [ListNode(x) for x in [420, 69]]\n",
    "for n1, n2 in zip(l2, l2[1:] + l1[2:]):\n",
    "    n1.next = n2\n",
    "\n",
    "Solution().getIntersectionNode(l1[0], l2[0]).val"
   ]
  },
  {
   "cell_type": "code",
   "execution_count": 67,
   "metadata": {
    "ExecuteTime": {
     "end_time": "2017-03-29T13:40:26.660785",
     "start_time": "2017-03-29T13:40:26.652978"
    },
    "collapsed": false
   },
   "outputs": [
    {
     "name": "stdout",
     "output_type": "stream",
     "text": [
      "{'val': 1, 'next': <__main__.ListNode object at 0x113c9a050>} \n",
      "{'val': 420, 'next': <__main__.ListNode object at 0x113c9a110>} \n",
      "--------------------------------------------------------------------- \n",
      "\n",
      "{'val': 2, 'next': <__main__.ListNode object at 0x113c9a090>} \n",
      "{'val': 69, 'next': <__main__.ListNode object at 0x113c9a390>} \n",
      "--------------------------------------------------------------------- \n",
      "\n",
      "{'val': 3, 'next': <__main__.ListNode object at 0x113c9a350>} \n",
      "{'val': 420, 'next': <__main__.ListNode object at 0x113c9a3d0>} \n",
      "--------------------------------------------------------------------- \n",
      "\n",
      "{'val': 4, 'next': None} \n",
      "{'val': 69, 'next': None} \n",
      "--------------------------------------------------------------------- \n",
      "\n",
      "None\n"
     ]
    }
   ],
   "source": [
    "l1 = [ListNode(x) for x in [1, 2, 3, 4]] + [None]\n",
    "for n1, n2 in zip(l1, l1[1:]):\n",
    "    n1.next = n2\n",
    "\n",
    "l2 = [ListNode(x) for x in [420, 69, 420, 69]]\n",
    "for n1, n2 in zip(l2, l2[1:]):\n",
    "    n1.next = n2\n",
    "\n",
    "print(Solution().getIntersectionNode(l1[0], l2[0]))"
   ]
  },
  {
   "cell_type": "code",
   "execution_count": 68,
   "metadata": {
    "ExecuteTime": {
     "end_time": "2017-03-29T13:40:26.897315",
     "start_time": "2017-03-29T13:40:26.870530"
    },
    "collapsed": true
   },
   "outputs": [],
   "source": [
    "# partition list #86\n",
    "# https://leetcode.com/problems/partition-list/\n",
    "\n",
    "# Definition for singly-linked list.\n",
    "# class ListNode(object):\n",
    "#     def __init__(self, x):\n",
    "#         self.val = x\n",
    "#         self.next = None\n",
    "\n",
    "class Solution(object):\n",
    "    def partition(self, head, x):\n",
    "        \"\"\"\n",
    "        :type head: ListNode\n",
    "        :type x: int\n",
    "        :rtype: ListNode\n",
    "        \"\"\"\n",
    "        lt_nodes = []\n",
    "        ge_nodes = []\n",
    "        \n",
    "        node = head\n",
    "        while node:\n",
    "            if node.val < x:\n",
    "                lt_nodes.append(node)\n",
    "            else:\n",
    "                ge_nodes.append(node)\n",
    "            node = node.next\n",
    "        \n",
    "        all_nodes = lt_nodes + ge_nodes + [None]\n",
    "        for n1, n2 in zip(all_nodes, all_nodes[1:]):\n",
    "            n1.next = n2\n",
    "        return all_nodes[0]\n",
    "\n",
    "\n",
    "class Solution(object):\n",
    "    def partition(self, head, x):\n",
    "        \"\"\"\n",
    "        :type head: ListNode\n",
    "        :type x: int\n",
    "        :rtype: ListNode\n",
    "        \"\"\"\n",
    "        \n",
    "        lt_node_head = ListNode(69)\n",
    "        gt_node_head = ListNode(69)\n",
    "        node = head\n",
    "        \n",
    "        lt_nodes = lt_node_head\n",
    "        ge_nodes = gt_node_head\n",
    "        \n",
    "        while node:\n",
    "            if node.val < x:\n",
    "                lt_nodes.next = node\n",
    "                lt_nodes = node\n",
    "                \n",
    "            else:\n",
    "                ge_nodes.next = node\n",
    "                ge_nodes = node\n",
    "                \n",
    "            node = node.next\n",
    "        \n",
    "        ge_nodes.next = None\n",
    "        \n",
    "        ge_nodes = gt_node_head.next\n",
    "        lt_nodes.next = ge_nodes\n",
    "        return lt_node_head.next\n",
    "        "
   ]
  },
  {
   "cell_type": "code",
   "execution_count": 69,
   "metadata": {
    "ExecuteTime": {
     "end_time": "2017-03-29T13:40:27.070365",
     "start_time": "2017-03-29T13:40:27.050497"
    },
    "collapsed": true
   },
   "outputs": [],
   "source": [
    "# reverse linked list ii\n",
    "# https://leetcode.com/problems/reverse-linked-list-ii/\n",
    "\n",
    "\n",
    "# Definition for singly-linked list.\n",
    "# class ListNode(object):\n",
    "#     def __init__(self, x):\n",
    "#         self.val = x\n",
    "#         self.next = None\n",
    "\n",
    "class Solution(object):\n",
    "    def reverseBetween(self, head, m, n):\n",
    "        \"\"\"\n",
    "        :type head: ListNode\n",
    "        :type m: int\n",
    "        :type n: int\n",
    "        :rtype: ListNode\n",
    "        \"\"\"\n",
    "        \n",
    "        ctr = 1\n",
    "        node = head\n",
    "        rev_stack = []\n",
    "        prev_node = None\n",
    "        \n",
    "        prev_node = node\n",
    "        \n",
    "        while ctr < m:\n",
    "            prev_node = node\n",
    "            node = node.next\n",
    "            ctr += 1\n",
    "        \n",
    "        \n",
    "        while ctr < n:\n",
    "            rev_stack.append(node)\n",
    "            node = node.next\n",
    "            ctr += 1\n",
    "        \n",
    "        if (m == 1) and (n > 1):\n",
    "            head = node\n",
    "        \n",
    "        next_node = node.next\n",
    "        \n",
    "        prev_node.next = node\n",
    "        \n",
    "        while rev_stack:\n",
    "            prev_node = node\n",
    "            node = rev_stack.pop()\n",
    "            prev_node.next = node\n",
    "        node.next = next_node\n",
    "        \n",
    "        return head\n",
    "        "
   ]
  },
  {
   "cell_type": "code",
   "execution_count": null,
   "metadata": {
    "collapsed": true
   },
   "outputs": [],
   "source": []
  }
 ],
 "metadata": {
  "kernelspec": {
   "display_name": "Python 2",
   "language": "python",
   "name": "python2"
  },
  "language_info": {
   "codemirror_mode": {
    "name": "ipython",
    "version": 2
   },
   "file_extension": ".py",
   "mimetype": "text/x-python",
   "name": "python",
   "nbconvert_exporter": "python",
   "pygments_lexer": "ipython2",
   "version": "2.7.12"
  },
  "toc": {
   "toc_cell": false,
   "toc_number_sections": true,
   "toc_threshold": 6,
   "toc_window_display": false
  }
 },
 "nbformat": 4,
 "nbformat_minor": 0
}
