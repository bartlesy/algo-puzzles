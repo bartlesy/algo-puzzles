{
 "cells": [
  {
   "cell_type": "code",
   "execution_count": 1,
   "metadata": {
    "ExecuteTime": {
     "end_time": "2016-03-12T14:32:50.558716",
     "start_time": "2016-03-12T14:32:50.543779"
    },
    "collapsed": true
   },
   "outputs": [],
   "source": [
    "test1 = 'weed'\n",
    "test2 = 'nugz'\n",
    "test3 = 'edwe'\n",
    "test4 = 'weeed'"
   ]
  },
  {
   "cell_type": "code",
   "execution_count": 7,
   "metadata": {
    "ExecuteTime": {
     "end_time": "2016-03-12T14:37:12.443960",
     "start_time": "2016-03-12T14:37:12.428293"
    },
    "collapsed": true
   },
   "outputs": [],
   "source": [
    "def chk_perm(s1, s2):\n",
    "    for s in s1:\n",
    "        try:\n",
    "            ind = s2.index(s)\n",
    "            s2 = s2[:ind] + s2[ind + 1:]\n",
    "        except:\n",
    "            return False\n",
    "    if s2 != '':\n",
    "        return False\n",
    "    return True"
   ]
  },
  {
   "cell_type": "code",
   "execution_count": 5,
   "metadata": {
    "ExecuteTime": {
     "end_time": "2016-03-12T14:35:39.657496",
     "start_time": "2016-03-12T14:35:39.654922"
    },
    "collapsed": false
   },
   "outputs": [
    {
     "data": {
      "text/plain": [
       "True"
      ]
     },
     "execution_count": 5,
     "metadata": {},
     "output_type": "execute_result"
    }
   ],
   "source": [
    "chk_perm(test1, test3)"
   ]
  },
  {
   "cell_type": "code",
   "execution_count": 9,
   "metadata": {
    "ExecuteTime": {
     "end_time": "2016-03-12T14:37:21.999621",
     "start_time": "2016-03-12T14:37:21.996787"
    },
    "collapsed": false
   },
   "outputs": [
    {
     "data": {
      "text/plain": [
       "False"
      ]
     },
     "execution_count": 9,
     "metadata": {},
     "output_type": "execute_result"
    }
   ],
   "source": [
    "chk_perm(test1, test2)"
   ]
  },
  {
   "cell_type": "code",
   "execution_count": 8,
   "metadata": {
    "ExecuteTime": {
     "end_time": "2016-03-12T14:37:19.890552",
     "start_time": "2016-03-12T14:37:19.884886"
    },
    "collapsed": false
   },
   "outputs": [
    {
     "data": {
      "text/plain": [
       "False"
      ]
     },
     "execution_count": 8,
     "metadata": {},
     "output_type": "execute_result"
    }
   ],
   "source": [
    "chk_perm(test1, test4)"
   ]
  },
  {
   "cell_type": "code",
   "execution_count": 7,
   "metadata": {
    "ExecuteTime": {
     "end_time": "2016-07-25T12:32:30.214933",
     "start_time": "2016-07-25T12:32:30.208918"
    },
    "collapsed": false
   },
   "outputs": [
    {
     "name": "stdout",
     "output_type": "stream",
     "text": [
      "weed%20owns%20%20%20\n",
      "weed%20owns\n"
     ]
    }
   ],
   "source": [
    "s1 = 'weed owns   '\n",
    "new = ''\n",
    "for s in s1:\n",
    "    if s == ' ':\n",
    "        new += '%20'\n",
    "    else:\n",
    "        new += s\n",
    "print new\n",
    "\n",
    "\n",
    "true_len = len('weed owns')\n",
    "print s1[:true_len].replace(' ', '%20')"
   ]
  },
  {
   "cell_type": "code",
   "execution_count": 6,
   "metadata": {
    "ExecuteTime": {
     "end_time": "2016-07-25T12:32:27.360650",
     "start_time": "2016-07-25T12:32:27.355547"
    },
    "collapsed": false
   },
   "outputs": [
    {
     "name": "stdout",
     "output_type": "stream",
     "text": [
      "z%20y%20x%20w%20v%20u%20t%20s%20r%20q%20p%20o%20n%20mlkjihgfedcba\n"
     ]
    }
   ],
   "source": [
    "s1 = 'z y x w v u t s r q p o n mlkjihgfedcba          '\n",
    "new = ''\n",
    "for i, c in enumerate(s1):\n",
    "    if max(s1[i:]) == ' ':\n",
    "        break\n",
    "    if c == ' ':\n",
    "        new += '%20'\n",
    "    else:\n",
    "        new += c\n",
    "print new"
   ]
  },
  {
   "cell_type": "code",
   "execution_count": 5,
   "metadata": {
    "ExecuteTime": {
     "end_time": "2016-07-25T12:32:25.412701",
     "start_time": "2016-07-25T12:32:25.408820"
    },
    "collapsed": false
   },
   "outputs": [],
   "source": [
    "def is_palindrome(s):\n",
    "    if s == '':\n",
    "        return True\n",
    "    if s[0] != s[-1]:\n",
    "        return False\n",
    "    return is_palindrome(s[1:-1])"
   ]
  },
  {
   "cell_type": "code",
   "execution_count": 78,
   "metadata": {
    "ExecuteTime": {
     "end_time": "2016-07-25T12:32:20.845520",
     "start_time": "2016-07-25T12:32:20.838669"
    },
    "collapsed": false
   },
   "outputs": [],
   "source": [
    "def longest_pal(text):\n",
    "    if text == '' or text is None:\n",
    "        return None\n",
    "    n = len(text)\n",
    "    sub_pal = []\n",
    "    for i in range(n):\n",
    "        l = i + 1\n",
    "        for j in range(l):\n",
    "            if(i >= j):\n",
    "                chunk = text[j:(i + 1)]\n",
    "                ptmp = chunk == chunk[::-1]\n",
    "                if ptmp:\n",
    "                    sub_pal.append(chunk)\n",
    "    out = max([len(i) for i in sub_pal])\n",
    "    if out == 1:\n",
    "        return \"No non-trivial palindromic subsequences in string\"\n",
    "    return out"
   ]
  },
  {
   "cell_type": "code",
   "execution_count": 80,
   "metadata": {
    "ExecuteTime": {
     "end_time": "2016-07-25T12:32:21.364946",
     "start_time": "2016-07-25T12:32:21.361087"
    },
    "collapsed": false
   },
   "outputs": [],
   "source": [
    "longest_pal('aaracecaraaasdlfaaaaaracecaraaaaagalpoe')\n",
    "longest_pal('')\n",
    "longest_pal(None)"
   ]
  },
  {
   "cell_type": "code",
   "execution_count": 7,
   "metadata": {
    "ExecuteTime": {
     "end_time": "2016-03-31T11:37:40.271417",
     "start_time": "2016-03-31T11:37:40.265544"
    },
    "collapsed": true
   },
   "outputs": [],
   "source": [
    "def missingNumber(nums):\n",
    "    \"\"\"\n",
    "    :type nums: List[int]\n",
    "    :rtype: int\n",
    "    \"\"\"\n",
    "    v, tot = 0, 0\n",
    "    for i, n in enumerate(nums):\n",
    "        v ^= n\n",
    "        tot ^= i\n",
    "        print 'v:', bin(v)\n",
    "        print 'tot:', bin(tot)\n",
    "        print 'xor:', bin(v ^ tot)\n",
    "    print 'answer:', bin(v^tot^len(nums))\n",
    "    return v ^ tot ^ len(nums)"
   ]
  },
  {
   "cell_type": "code",
   "execution_count": 8,
   "metadata": {
    "ExecuteTime": {
     "end_time": "2016-03-31T11:37:40.459168",
     "start_time": "2016-03-31T11:37:40.456016"
    },
    "collapsed": false
   },
   "outputs": [
    {
     "name": "stdout",
     "output_type": "stream",
     "text": [
      "v: 0b1\n",
      "tot: 0b0\n",
      "xor: 0b1\n",
      "v: 0b11\n",
      "tot: 0b1\n",
      "xor: 0b10\n",
      "v: 0b0\n",
      "tot: 0b11\n",
      "xor: 0b11\n",
      "v: 0b0\n",
      "tot: 0b0\n",
      "xor: 0b0\n",
      "v: 0b101\n",
      "tot: 0b100\n",
      "xor: 0b1\n",
      "answer: 0b100\n"
     ]
    },
    {
     "data": {
      "text/plain": [
       "4"
      ]
     },
     "execution_count": 8,
     "metadata": {},
     "output_type": "execute_result"
    }
   ],
   "source": [
    "missingNumber([1, 2, 3, 0, 5])"
   ]
  },
  {
   "cell_type": "code",
   "execution_count": 1,
   "metadata": {
    "ExecuteTime": {
     "end_time": "2016-07-25T12:30:40.841869",
     "start_time": "2016-07-25T12:30:40.836806"
    },
    "collapsed": true
   },
   "outputs": [],
   "source": [
    "def missingNumber(nums):\n",
    "    \"\"\"\n",
    "    :type nums: List[int]\n",
    "    :rtype: int\n",
    "    \"\"\"\n",
    "    v = 0\n",
    "    for i, n in enumerate(nums):\n",
    "        v ^= n ^ i\n",
    "    return v ^ len(nums)"
   ]
  },
  {
   "cell_type": "code",
   "execution_count": 2,
   "metadata": {
    "ExecuteTime": {
     "end_time": "2016-07-25T12:30:42.292881",
     "start_time": "2016-07-25T12:30:42.282625"
    },
    "collapsed": false
   },
   "outputs": [
    {
     "data": {
      "text/plain": [
       "4"
      ]
     },
     "execution_count": 2,
     "metadata": {},
     "output_type": "execute_result"
    }
   ],
   "source": [
    "missingNumber([1, 2, 3, 0, 5])"
   ]
  },
  {
   "cell_type": "code",
   "execution_count": 8,
   "metadata": {
    "ExecuteTime": {
     "end_time": "2016-07-29T10:23:24.756282",
     "start_time": "2016-07-29T10:23:24.744621"
    },
    "collapsed": true
   },
   "outputs": [],
   "source": [
    "class SumInArray(object):\n",
    "\n",
    "    @classmethod\n",
    "    def solve(self, arr, tar_sum, max_n):\n",
    "        arr.sort()\n",
    "        out = []\n",
    "        cur_out = []\n",
    "        self._solve(out, arr, tar_sum, cur_out)\n",
    "        out = filter(lambda x: len(x) == max_n, out)\n",
    "        return out\n",
    "    \n",
    "    @classmethod\n",
    "    def _solve(self, out, arr, tar_sum, cur_out):\n",
    "        if tar_sum == 0:\n",
    "            out.append([x for x in cur_out])\n",
    "            return # lol mutable arguments\n",
    "\n",
    "        for i, x in enumerate(arr):\n",
    "            if x <= tar_sum:\n",
    "#                 print(x, tar_sum, arr, cur_out)\n",
    "                cur_out.append(x)\n",
    "#                 print(x, tar_sum, arr, cur_out)\n",
    "                self._solve(out, arr[i:], tar_sum - x, cur_out) # traverse the arr\n",
    "#                 print(x, tar_sum, arr, cur_out)\n",
    "                cur_out.pop() \n",
    "                # if dfser returns without adding to out, then get rid of the intermediate"
   ]
  },
  {
   "cell_type": "code",
   "execution_count": 9,
   "metadata": {
    "ExecuteTime": {
     "end_time": "2016-07-29T10:23:25.339259",
     "start_time": "2016-07-29T10:23:25.334481"
    },
    "collapsed": false,
    "scrolled": false
   },
   "outputs": [
    {
     "name": "stdout",
     "output_type": "stream",
     "text": [
      "[]\n",
      "[[1, 1, 1, 3], [1, 1, 2, 2], [1, 1.5, 1.5, 2], [1.5, 1.5, 1.5, 1.5]]\n",
      "[[1, 1, 4], [1, 2, 3], [1.5, 1.5, 3], [2, 2, 2]]\n",
      "[[1, 1, 3, 4]]\n"
     ]
    }
   ],
   "source": [
    "for testz in [\n",
    "    ([2, 3, 6], 7, 5), \n",
    "    ([4, 2, 1, 3, 1.5], 6, 4),\n",
    "    ([4, 2, 1, 3, 1.5], 6, 3),\n",
    "    ([1, 3, 5, 8, 4], 9, 4)\n",
    "    ]:\n",
    "    print(SumInArray.solve(*testz))"
   ]
  },
  {
   "cell_type": "code",
   "execution_count": 12,
   "metadata": {
    "ExecuteTime": {
     "end_time": "2016-07-29T10:23:33.439705",
     "start_time": "2016-07-29T10:23:33.430067"
    },
    "collapsed": true
   },
   "outputs": [],
   "source": [
    "def solve(arr, tar_sum, max_n):\n",
    "    \n",
    "    def _solve(out, arr, tar_sum, cur_out):\n",
    "        if tar_sum == 0:\n",
    "            out.append([x for x in cur_out])\n",
    "            return\n",
    "\n",
    "        for i, x in enumerate(arr):\n",
    "            if x <= tar_sum:\n",
    "#                 print(x, tar_sum, arr, cur_out)\n",
    "                cur_out.append(x)\n",
    "#                 print(x, tar_sum, arr, cur_out)\n",
    "                _solve(out, arr[i + 1:], tar_sum - x, cur_out)\n",
    "#                 print(x, tar_sum, arr, cur_out)\n",
    "                cur_out.pop() \n",
    "                # if _solve returns without appending to out, then get rid of the intermediate\n",
    "                \n",
    "    arr.sort()\n",
    "    out = []\n",
    "    cur_out = []\n",
    "    _solve(out, arr, tar_sum, cur_out)\n",
    "    out = filter(lambda x: len(x) == max_n, out)\n",
    "    return out\n"
   ]
  },
  {
   "cell_type": "code",
   "execution_count": 13,
   "metadata": {
    "ExecuteTime": {
     "end_time": "2016-07-29T10:23:33.923511",
     "start_time": "2016-07-29T10:23:33.918953"
    },
    "collapsed": false
   },
   "outputs": [
    {
     "name": "stdout",
     "output_type": "stream",
     "text": [
      "[]\n",
      "[]\n",
      "[[1, 2, 3]]\n",
      "[]\n"
     ]
    }
   ],
   "source": [
    "for testz in [\n",
    "    ([2, 3, 6], 7, 5), \n",
    "    ([4, 2, 1, 3, 1.5], 6, 4),\n",
    "    ([4, 2, 1, 3, 1.5], 6, 3),\n",
    "    ([1, 3, 5, 8, 4], 9, 4)\n",
    "    ]:\n",
    "    print(solve(*testz))"
   ]
  },
  {
   "cell_type": "code",
   "execution_count": 135,
   "metadata": {
    "collapsed": true
   },
   "outputs": [],
   "source": [
    "class SumInArray(object):\n",
    "\n",
    "    @staticmethod\n",
    "    def solve(arr, tar_sum, max_n):\n",
    "        arr.sort()\n",
    "        out = []\n",
    "        cur_out = []\n",
    "        _solve(out, arr, tar_sum, cur_out)\n",
    "        out = filter(lambda x: len(x) == max_n, out)\n",
    "        return out\n",
    "    \n",
    "    @staticmethod\n",
    "    def _solve(out, arr, tar_sum, cur_out):\n",
    "        if tar_sum == 0:\n",
    "            out.append([x for x in cur_out])\n",
    "            return # lol mutable arguments\n",
    "\n",
    "        for i, x in enumerate(arr):\n",
    "            if x <= tar_sum:\n",
    "                cur_out.append(x)\n",
    "                _solve(out, arr[i:], tar_sum - x, cur_out) # traverse the arr\n",
    "                cur_out.pop() \n",
    "                # if dfser returns without adding to out, then get rid of the intermediate"
   ]
  },
  {
   "cell_type": "code",
   "execution_count": 139,
   "metadata": {
    "collapsed": false
   },
   "outputs": [
    {
     "ename": "AttributeError",
     "evalue": "'SumInArray' object has no attribute '__cls__'",
     "output_type": "error",
     "traceback": [
      "\u001b[0;31m\u001b[0m",
      "\u001b[0;31mAttributeError\u001b[0mTraceback (most recent call last)",
      "\u001b[0;32m<ipython-input-139-1c303139ee4b>\u001b[0m in \u001b[0;36m<module>\u001b[0;34m()\u001b[0m\n\u001b[0;32m----> 1\u001b[0;31m \u001b[0mSumInArray\u001b[0m\u001b[0;34m(\u001b[0m\u001b[0;34m)\u001b[0m\u001b[0;34m.\u001b[0m\u001b[0m__cls__\u001b[0m\u001b[0;34m\u001b[0m\u001b[0m\n\u001b[0m",
      "\u001b[0;31mAttributeError\u001b[0m: 'SumInArray' object has no attribute '__cls__'"
     ]
    }
   ],
   "source": [
    "SumInArray()."
   ]
  },
  {
   "cell_type": "code",
   "execution_count": 2,
   "metadata": {
    "ExecuteTime": {
     "end_time": "2016-07-29T10:20:41.945706",
     "start_time": "2016-07-29T10:20:41.937942"
    },
    "collapsed": true
   },
   "outputs": [],
   "source": [
    "#hindex\n",
    "class HIndex(object):\n",
    "    @staticmethod\n",
    "    def solve(citations):\n",
    "        \"\"\"\n",
    "        :type citations: List[int]\n",
    "        :rtype: int\n",
    "        \"\"\"\n",
    "        if citations == [] or citations is None or max(citations) == 0:\n",
    "            return 0\n",
    "        \n",
    "        n_papers = len(citations)\n",
    "        # citations.sort(reverse=True)\n",
    "                    \n",
    "        for x in range(max(citations), 0, -1):\n",
    "            # print(x, filter(lambda c: c < x, citations), filter(lambda c: c >= x, citations))\n",
    "            \n",
    "            # n-h < h\n",
    "            if len(filter(lambda c: c < x, citations)) <= n_papers - x:\n",
    "                # top h >= h\n",
    "                if len(filter(lambda c: c >= x, citations)) >= x:\n",
    "                    return x\n",
    "        return x"
   ]
  },
  {
   "cell_type": "code",
   "execution_count": 7,
   "metadata": {
    "ExecuteTime": {
     "end_time": "2016-07-29T10:23:07.752916",
     "start_time": "2016-07-29T10:23:07.748732"
    },
    "collapsed": false
   },
   "outputs": [],
   "source": [
    "test_res = [HIndex.solve(test) for test in [[3, 0, 6, 1, 5],\n",
    "    [0, 1, 2], [0, 0, 4, 4], [1, 2, 1, 0], [0, 1, 0], [0],\n",
    "    [1,1,3,6,7,10,7,1,8,5,9,1,4,4,3]]]\n",
    "\n",
    "assert test_res == [3, 1, 2, 1, 1, 0, 6]"
   ]
  },
  {
   "cell_type": "code",
   "execution_count": null,
   "metadata": {
    "collapsed": true
   },
   "outputs": [],
   "source": []
  }
 ],
 "metadata": {
  "kernelspec": {
   "display_name": "Python 2",
   "language": "python",
   "name": "python2"
  },
  "language_info": {
   "codemirror_mode": {
    "name": "ipython",
    "version": 2
   },
   "file_extension": ".py",
   "mimetype": "text/x-python",
   "name": "python",
   "nbconvert_exporter": "python",
   "pygments_lexer": "ipython2",
   "version": "2.7.11"
  },
  "toc": {
   "toc_cell": false,
   "toc_number_sections": true,
   "toc_threshold": 6,
   "toc_window_display": false
  }
 },
 "nbformat": 4,
 "nbformat_minor": 0
}
