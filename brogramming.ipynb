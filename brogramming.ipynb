{
 "cells": [
  {
   "cell_type": "code",
   "execution_count": 1,
   "metadata": {
    "ExecuteTime": {
     "end_time": "2016-03-12T14:32:50.558716",
     "start_time": "2016-03-12T14:32:50.543779"
    },
    "collapsed": true
   },
   "outputs": [],
   "source": [
    "test1 = 'weed'\n",
    "test2 = 'nugz'\n",
    "test3 = 'edwe'\n",
    "test4 = 'weeed'"
   ]
  },
  {
   "cell_type": "code",
   "execution_count": 7,
   "metadata": {
    "ExecuteTime": {
     "end_time": "2016-03-12T14:37:12.443960",
     "start_time": "2016-03-12T14:37:12.428293"
    },
    "collapsed": true
   },
   "outputs": [],
   "source": [
    "def chk_perm(s1, s2):\n",
    "    for s in s1:\n",
    "        try:\n",
    "            ind = s2.index(s)\n",
    "            s2 = s2[:ind] + s2[ind + 1:]\n",
    "        except:\n",
    "            return False\n",
    "    if s2 != '':\n",
    "        return False\n",
    "    return True"
   ]
  },
  {
   "cell_type": "code",
   "execution_count": 5,
   "metadata": {
    "ExecuteTime": {
     "end_time": "2016-03-12T14:35:39.657496",
     "start_time": "2016-03-12T14:35:39.654922"
    },
    "collapsed": false
   },
   "outputs": [
    {
     "data": {
      "text/plain": [
       "True"
      ]
     },
     "execution_count": 5,
     "metadata": {},
     "output_type": "execute_result"
    }
   ],
   "source": [
    "chk_perm(test1, test3)"
   ]
  },
  {
   "cell_type": "code",
   "execution_count": 9,
   "metadata": {
    "ExecuteTime": {
     "end_time": "2016-03-12T14:37:21.999621",
     "start_time": "2016-03-12T14:37:21.996787"
    },
    "collapsed": false
   },
   "outputs": [
    {
     "data": {
      "text/plain": [
       "False"
      ]
     },
     "execution_count": 9,
     "metadata": {},
     "output_type": "execute_result"
    }
   ],
   "source": [
    "chk_perm(test1, test2)"
   ]
  },
  {
   "cell_type": "code",
   "execution_count": 8,
   "metadata": {
    "ExecuteTime": {
     "end_time": "2016-03-12T14:37:19.890552",
     "start_time": "2016-03-12T14:37:19.884886"
    },
    "collapsed": false
   },
   "outputs": [
    {
     "data": {
      "text/plain": [
       "False"
      ]
     },
     "execution_count": 8,
     "metadata": {},
     "output_type": "execute_result"
    }
   ],
   "source": [
    "chk_perm(test1, test4)"
   ]
  },
  {
   "cell_type": "code",
   "execution_count": 7,
   "metadata": {
    "ExecuteTime": {
     "end_time": "2016-07-25T12:32:30.214933",
     "start_time": "2016-07-25T12:32:30.208918"
    },
    "collapsed": false
   },
   "outputs": [
    {
     "name": "stdout",
     "output_type": "stream",
     "text": [
      "weed%20owns%20%20%20\n",
      "weed%20owns\n"
     ]
    }
   ],
   "source": [
    "s1 = 'weed owns   '\n",
    "new = ''\n",
    "for s in s1:\n",
    "    if s == ' ':\n",
    "        new += '%20'\n",
    "    else:\n",
    "        new += s\n",
    "print new\n",
    "\n",
    "\n",
    "true_len = len('weed owns')\n",
    "print s1[:true_len].replace(' ', '%20')"
   ]
  },
  {
   "cell_type": "code",
   "execution_count": 6,
   "metadata": {
    "ExecuteTime": {
     "end_time": "2016-07-25T12:32:27.360650",
     "start_time": "2016-07-25T12:32:27.355547"
    },
    "collapsed": false
   },
   "outputs": [
    {
     "name": "stdout",
     "output_type": "stream",
     "text": [
      "z%20y%20x%20w%20v%20u%20t%20s%20r%20q%20p%20o%20n%20mlkjihgfedcba\n"
     ]
    }
   ],
   "source": [
    "s1 = 'z y x w v u t s r q p o n mlkjihgfedcba          '\n",
    "new = ''\n",
    "for i, c in enumerate(s1):\n",
    "    if max(s1[i:]) == ' ':\n",
    "        break\n",
    "    if c == ' ':\n",
    "        new += '%20'\n",
    "    else:\n",
    "        new += c\n",
    "print new"
   ]
  },
  {
   "cell_type": "code",
   "execution_count": 5,
   "metadata": {
    "ExecuteTime": {
     "end_time": "2016-07-25T12:32:25.412701",
     "start_time": "2016-07-25T12:32:25.408820"
    },
    "collapsed": false
   },
   "outputs": [],
   "source": [
    "def is_palindrome(s):\n",
    "    if s == '':\n",
    "        return True\n",
    "    if s[0] != s[-1]:\n",
    "        return False\n",
    "    return is_palindrome(s[1:-1])"
   ]
  },
  {
   "cell_type": "code",
   "execution_count": 78,
   "metadata": {
    "ExecuteTime": {
     "end_time": "2016-07-25T12:32:20.845520",
     "start_time": "2016-07-25T12:32:20.838669"
    },
    "collapsed": false
   },
   "outputs": [],
   "source": [
    "def longest_pal(text):\n",
    "    if text == '' or text is None:\n",
    "        return None\n",
    "    n = len(text)\n",
    "    sub_pal = []\n",
    "    for i in range(n):\n",
    "        l = i + 1\n",
    "        for j in range(l):\n",
    "            if(i >= j):\n",
    "                chunk = text[j:(i + 1)]\n",
    "                ptmp = chunk == chunk[::-1]\n",
    "                if ptmp:\n",
    "                    sub_pal.append(chunk)\n",
    "    out = max([len(i) for i in sub_pal])\n",
    "    if out == 1:\n",
    "        return \"No non-trivial palindromic subsequences in string\"\n",
    "    return out"
   ]
  },
  {
   "cell_type": "code",
   "execution_count": 80,
   "metadata": {
    "ExecuteTime": {
     "end_time": "2016-07-25T12:32:21.364946",
     "start_time": "2016-07-25T12:32:21.361087"
    },
    "collapsed": false
   },
   "outputs": [],
   "source": [
    "longest_pal('aaracecaraaasdlfaaaaaracecaraaaaagalpoe')\n",
    "longest_pal('')\n",
    "longest_pal(None)"
   ]
  },
  {
   "cell_type": "code",
   "execution_count": 7,
   "metadata": {
    "ExecuteTime": {
     "end_time": "2016-03-31T11:37:40.271417",
     "start_time": "2016-03-31T11:37:40.265544"
    },
    "collapsed": true
   },
   "outputs": [],
   "source": [
    "def missingNumber(nums):\n",
    "    \"\"\"\n",
    "    :type nums: List[int]\n",
    "    :rtype: int\n",
    "    \"\"\"\n",
    "    v, tot = 0, 0\n",
    "    for i, n in enumerate(nums):\n",
    "        v ^= n\n",
    "        tot ^= i\n",
    "        print 'v:', bin(v)\n",
    "        print 'tot:', bin(tot)\n",
    "        print 'xor:', bin(v ^ tot)\n",
    "    print 'answer:', bin(v^tot^len(nums))\n",
    "    return v ^ tot ^ len(nums)"
   ]
  },
  {
   "cell_type": "code",
   "execution_count": 8,
   "metadata": {
    "ExecuteTime": {
     "end_time": "2016-03-31T11:37:40.459168",
     "start_time": "2016-03-31T11:37:40.456016"
    },
    "collapsed": false
   },
   "outputs": [
    {
     "name": "stdout",
     "output_type": "stream",
     "text": [
      "v: 0b1\n",
      "tot: 0b0\n",
      "xor: 0b1\n",
      "v: 0b11\n",
      "tot: 0b1\n",
      "xor: 0b10\n",
      "v: 0b0\n",
      "tot: 0b11\n",
      "xor: 0b11\n",
      "v: 0b0\n",
      "tot: 0b0\n",
      "xor: 0b0\n",
      "v: 0b101\n",
      "tot: 0b100\n",
      "xor: 0b1\n",
      "answer: 0b100\n"
     ]
    },
    {
     "data": {
      "text/plain": [
       "4"
      ]
     },
     "execution_count": 8,
     "metadata": {},
     "output_type": "execute_result"
    }
   ],
   "source": [
    "missingNumber([1, 2, 3, 0, 5])"
   ]
  },
  {
   "cell_type": "code",
   "execution_count": 1,
   "metadata": {
    "ExecuteTime": {
     "end_time": "2016-07-25T12:30:40.841869",
     "start_time": "2016-07-25T12:30:40.836806"
    },
    "collapsed": true
   },
   "outputs": [],
   "source": [
    "def missingNumber(nums):\n",
    "    \"\"\"\n",
    "    :type nums: List[int]\n",
    "    :rtype: int\n",
    "    \"\"\"\n",
    "    v = 0\n",
    "    for i, n in enumerate(nums):\n",
    "        v ^= n ^ i\n",
    "    return v ^ len(nums)"
   ]
  },
  {
   "cell_type": "code",
   "execution_count": 2,
   "metadata": {
    "ExecuteTime": {
     "end_time": "2016-07-25T12:30:42.292881",
     "start_time": "2016-07-25T12:30:42.282625"
    },
    "collapsed": false
   },
   "outputs": [
    {
     "data": {
      "text/plain": [
       "4"
      ]
     },
     "execution_count": 2,
     "metadata": {},
     "output_type": "execute_result"
    }
   ],
   "source": [
    "missingNumber([1, 2, 3, 0, 5])"
   ]
  },
  {
   "cell_type": "code",
   "execution_count": 8,
   "metadata": {
    "ExecuteTime": {
     "end_time": "2016-07-29T10:23:24.756282",
     "start_time": "2016-07-29T10:23:24.744621"
    },
    "collapsed": true
   },
   "outputs": [],
   "source": [
    "class SumInArray(object):\n",
    "\n",
    "    @classmethod\n",
    "    def solve(self, arr, tar_sum, max_n):\n",
    "        arr.sort()\n",
    "        out = []\n",
    "        cur_out = []\n",
    "        self._solve(out, arr, tar_sum, cur_out)\n",
    "        out = filter(lambda x: len(x) == max_n, out)\n",
    "        return out\n",
    "    \n",
    "    @classmethod\n",
    "    def _solve(self, out, arr, tar_sum, cur_out):\n",
    "        if tar_sum == 0:\n",
    "            out.append([x for x in cur_out])\n",
    "            return # lol mutable arguments\n",
    "\n",
    "        for i, x in enumerate(arr):\n",
    "            if x <= tar_sum:\n",
    "#                 print(x, tar_sum, arr, cur_out)\n",
    "                cur_out.append(x)\n",
    "#                 print(x, tar_sum, arr, cur_out)\n",
    "                self._solve(out, arr[i:], tar_sum - x, cur_out) # traverse the arr\n",
    "#                 print(x, tar_sum, arr, cur_out)\n",
    "                cur_out.pop() \n",
    "                # if dfser returns without adding to out, then get rid of the intermediate"
   ]
  },
  {
   "cell_type": "code",
   "execution_count": 9,
   "metadata": {
    "ExecuteTime": {
     "end_time": "2016-07-29T10:23:25.339259",
     "start_time": "2016-07-29T10:23:25.334481"
    },
    "collapsed": false,
    "scrolled": false
   },
   "outputs": [
    {
     "name": "stdout",
     "output_type": "stream",
     "text": [
      "[]\n",
      "[[1, 1, 1, 3], [1, 1, 2, 2], [1, 1.5, 1.5, 2], [1.5, 1.5, 1.5, 1.5]]\n",
      "[[1, 1, 4], [1, 2, 3], [1.5, 1.5, 3], [2, 2, 2]]\n",
      "[[1, 1, 3, 4]]\n"
     ]
    }
   ],
   "source": [
    "for testz in [\n",
    "    ([2, 3, 6], 7, 5), \n",
    "    ([4, 2, 1, 3, 1.5], 6, 4),\n",
    "    ([4, 2, 1, 3, 1.5], 6, 3),\n",
    "    ([1, 3, 5, 8, 4], 9, 4)\n",
    "    ]:\n",
    "    print(SumInArray.solve(*testz))"
   ]
  },
  {
   "cell_type": "code",
   "execution_count": 12,
   "metadata": {
    "ExecuteTime": {
     "end_time": "2016-07-29T10:23:33.439705",
     "start_time": "2016-07-29T10:23:33.430067"
    },
    "collapsed": true
   },
   "outputs": [],
   "source": [
    "def solve(arr, tar_sum, max_n):\n",
    "    \n",
    "    def _solve(out, arr, tar_sum, cur_out):\n",
    "        if tar_sum == 0:\n",
    "            out.append([x for x in cur_out])\n",
    "            return\n",
    "\n",
    "        for i, x in enumerate(arr):\n",
    "            if x <= tar_sum:\n",
    "#                 print(x, tar_sum, arr, cur_out)\n",
    "                cur_out.append(x)\n",
    "#                 print(x, tar_sum, arr, cur_out)\n",
    "                _solve(out, arr[i + 1:], tar_sum - x, cur_out)\n",
    "#                 print(x, tar_sum, arr, cur_out)\n",
    "                cur_out.pop() \n",
    "                # if _solve returns without appending to out, then get rid of the intermediate\n",
    "                \n",
    "    arr.sort()\n",
    "    out = []\n",
    "    cur_out = []\n",
    "    _solve(out, arr, tar_sum, cur_out)\n",
    "    out = filter(lambda x: len(x) == max_n, out)\n",
    "    return out\n"
   ]
  },
  {
   "cell_type": "code",
   "execution_count": 13,
   "metadata": {
    "ExecuteTime": {
     "end_time": "2016-07-29T10:23:33.923511",
     "start_time": "2016-07-29T10:23:33.918953"
    },
    "collapsed": false
   },
   "outputs": [
    {
     "name": "stdout",
     "output_type": "stream",
     "text": [
      "[]\n",
      "[]\n",
      "[[1, 2, 3]]\n",
      "[]\n"
     ]
    }
   ],
   "source": [
    "for testz in [\n",
    "    ([2, 3, 6], 7, 5), \n",
    "    ([4, 2, 1, 3, 1.5], 6, 4),\n",
    "    ([4, 2, 1, 3, 1.5], 6, 3),\n",
    "    ([1, 3, 5, 8, 4], 9, 4)\n",
    "    ]:\n",
    "    print(solve(*testz))"
   ]
  },
  {
   "cell_type": "code",
   "execution_count": 135,
   "metadata": {
    "collapsed": true
   },
   "outputs": [],
   "source": [
    "class SumInArray(object):\n",
    "\n",
    "    @staticmethod\n",
    "    def solve(arr, tar_sum, max_n):\n",
    "        arr.sort()\n",
    "        out = []\n",
    "        cur_out = []\n",
    "        _solve(out, arr, tar_sum, cur_out)\n",
    "        out = filter(lambda x: len(x) == max_n, out)\n",
    "        return out\n",
    "    \n",
    "    @staticmethod\n",
    "    def _solve(out, arr, tar_sum, cur_out):\n",
    "        if tar_sum == 0:\n",
    "            out.append([x for x in cur_out])\n",
    "            return # lol mutable arguments\n",
    "\n",
    "        for i, x in enumerate(arr):\n",
    "            if x <= tar_sum:\n",
    "                cur_out.append(x)\n",
    "                _solve(out, arr[i:], tar_sum - x, cur_out) # traverse the arr\n",
    "                cur_out.pop() \n",
    "                # if dfser returns without adding to out, then get rid of the intermediate"
   ]
  },
  {
   "cell_type": "code",
   "execution_count": 139,
   "metadata": {
    "collapsed": false
   },
   "outputs": [
    {
     "ename": "AttributeError",
     "evalue": "'SumInArray' object has no attribute '__cls__'",
     "output_type": "error",
     "traceback": [
      "\u001b[0;31m\u001b[0m",
      "\u001b[0;31mAttributeError\u001b[0mTraceback (most recent call last)",
      "\u001b[0;32m<ipython-input-139-1c303139ee4b>\u001b[0m in \u001b[0;36m<module>\u001b[0;34m()\u001b[0m\n\u001b[0;32m----> 1\u001b[0;31m \u001b[0mSumInArray\u001b[0m\u001b[0;34m(\u001b[0m\u001b[0;34m)\u001b[0m\u001b[0;34m.\u001b[0m\u001b[0m__cls__\u001b[0m\u001b[0;34m\u001b[0m\u001b[0m\n\u001b[0m",
      "\u001b[0;31mAttributeError\u001b[0m: 'SumInArray' object has no attribute '__cls__'"
     ]
    }
   ],
   "source": [
    "SumInArray()."
   ]
  },
  {
   "cell_type": "code",
   "execution_count": 2,
   "metadata": {
    "ExecuteTime": {
     "end_time": "2016-07-29T10:20:41.945706",
     "start_time": "2016-07-29T10:20:41.937942"
    },
    "collapsed": true
   },
   "outputs": [],
   "source": [
    "#hindex\n",
    "class HIndex(object):\n",
    "    @staticmethod\n",
    "    def solve(citations):\n",
    "        \"\"\"\n",
    "        :type citations: List[int]\n",
    "        :rtype: int\n",
    "        \"\"\"\n",
    "        if citations == [] or citations is None or max(citations) == 0:\n",
    "            return 0\n",
    "        \n",
    "        n_papers = len(citations)\n",
    "        # citations.sort(reverse=True)\n",
    "                    \n",
    "        for x in range(max(citations), 0, -1):\n",
    "            # print(x, filter(lambda c: c < x, citations), filter(lambda c: c >= x, citations))\n",
    "            \n",
    "            # n-h < h\n",
    "            if len(filter(lambda c: c < x, citations)) <= n_papers - x:\n",
    "                # top h >= h\n",
    "                if len(filter(lambda c: c >= x, citations)) >= x:\n",
    "                    return x\n",
    "        return x"
   ]
  },
  {
   "cell_type": "code",
   "execution_count": 7,
   "metadata": {
    "ExecuteTime": {
     "end_time": "2016-07-29T10:23:07.752916",
     "start_time": "2016-07-29T10:23:07.748732"
    },
    "collapsed": false
   },
   "outputs": [],
   "source": [
    "test_res = [HIndex.solve(test) for test in [[3, 0, 6, 1, 5],\n",
    "    [0, 1, 2], [0, 0, 4, 4], [1, 2, 1, 0], [0, 1, 0], [0],\n",
    "    [1,1,3,6,7,10,7,1,8,5,9,1,4,4,3]]]\n",
    "\n",
    "assert test_res == [3, 1, 2, 1, 1, 0, 6]"
   ]
  },
  {
   "cell_type": "code",
   "execution_count": 1,
   "metadata": {
    "ExecuteTime": {
     "end_time": "2016-08-04T09:48:35.659702",
     "start_time": "2016-08-04T09:48:35.159285"
    },
    "collapsed": true
   },
   "outputs": [],
   "source": [
    "import numpy as np\n",
    "import pandas as pd\n",
    "\n",
    "def sb_cutz(x, bins=10):\n",
    "    return pd.cut(x.rank(method='min', pct=True), bins=np.linspace(0, 1, bins + 1))"
   ]
  },
  {
   "cell_type": "code",
   "execution_count": 7,
   "metadata": {
    "ExecuteTime": {
     "end_time": "2016-09-20T14:40:57.233985",
     "start_time": "2016-09-20T14:40:57.231088"
    },
    "collapsed": false
   },
   "outputs": [],
   "source": [
    "def is_anagram(str1, str2):\n",
    "    return sorted(str1) == sorted(str2) if str1 and str2 else None"
   ]
  },
  {
   "cell_type": "code",
   "execution_count": 11,
   "metadata": {
    "ExecuteTime": {
     "end_time": "2016-09-20T14:43:01.976734",
     "start_time": "2016-09-20T14:43:01.972988"
    },
    "collapsed": false
   },
   "outputs": [],
   "source": [
    "assert is_anagram('weed', 'dwee')\n",
    "assert not is_anagram('weed', 'dweee')\n",
    "assert is_anagram(None, None) is None\n",
    "assert is_anagram('acts', 'cats')\n",
    "assert not is_anagram('acts', 'stack')"
   ]
  },
  {
   "cell_type": "code",
   "execution_count": 85,
   "metadata": {
    "ExecuteTime": {
     "end_time": "2016-09-20T15:44:20.079885",
     "start_time": "2016-09-20T15:44:20.065855"
    },
    "collapsed": true
   },
   "outputs": [],
   "source": [
    "from collections import Counter, defaultdict\n",
    "def most_freq(array):\n",
    "    return Counter(array).most_common(1)[0][0]\n",
    "\n",
    "def most_freq(array):\n",
    "    max_ct = 0\n",
    "    most_freq = None\n",
    "    for i, x in enumerate(array):\n",
    "        cur_ct = 0\n",
    "        \n",
    "        for j in array:\n",
    "            if j == x:\n",
    "                cur_ct += 1\n",
    "\n",
    "        if cur_ct > max_ct:\n",
    "            max_ct = cur_ct\n",
    "            most_freq = x\n",
    "\n",
    "    return most_freq\n",
    "\n",
    "def most_freq(array):\n",
    "    return max(array, key=lambda x: len([a for a in array if a == x]))\n",
    "\n",
    "def most_freq(array):\n",
    "    if_u_want = defaultdict(lambda: 0)\n",
    "#     if_u_want = {}  # i got youuuu\n",
    "    for x in array:\n",
    "        if_u_want[x] += 1\n",
    "    return max(if_u_want, key=lambda x: if_u_want.get(x))\n",
    "    "
   ]
  },
  {
   "cell_type": "code",
   "execution_count": 86,
   "metadata": {
    "ExecuteTime": {
     "end_time": "2016-09-20T15:44:20.486043",
     "start_time": "2016-09-20T15:44:20.481964"
    },
    "collapsed": false
   },
   "outputs": [
    {
     "name": "stdout",
     "output_type": "stream",
     "text": [
      "1\n",
      "100\n",
      "420\n"
     ]
    }
   ],
   "source": [
    "print(most_freq([1,2,1,1,3,4,2]))\n",
    "print(most_freq([100]))\n",
    "print(most_freq([69, 69, 69, 420, 420, 420, 420]))"
   ]
  },
  {
   "cell_type": "code",
   "execution_count": 2,
   "metadata": {
    "ExecuteTime": {
     "end_time": "2016-11-08T13:31:46.605306",
     "start_time": "2016-11-08T13:31:46.598119"
    },
    "collapsed": false
   },
   "outputs": [],
   "source": [
    "from itertools import izip_longest\n",
    "\n",
    "def roman_numeral(num_str):\n",
    "    cur_val = 0\n",
    "    harambe = {'M': 1000, 'D': 500, 'C': 100, 'L': 50, 'X': 10, 'V': 5, 'I': 1}\n",
    "\n",
    "    for x, y in izip_longest(num_str, num_str[1:]):\n",
    "        x = harambe[x]\n",
    "        y = harambe.get(y, 0)\n",
    "        if x < y:\n",
    "            x = -x\n",
    "        cur_val += x\n",
    "    return cur_val"
   ]
  },
  {
   "cell_type": "code",
   "execution_count": 20,
   "metadata": {
    "ExecuteTime": {
     "end_time": "2016-11-08T14:00:27.147911",
     "start_time": "2016-11-08T14:00:27.141809"
    },
    "collapsed": false
   },
   "outputs": [
    {
     "name": "stdout",
     "output_type": "stream",
     "text": [
      "randy is the best\n"
     ]
    }
   ],
   "source": [
    "assert roman_numeral('MCMXXIV') == 1924\n",
    "assert roman_numeral('DLVI') == 556 \n",
    "assert roman_numeral('CM') == 900\n",
    "assert roman_numeral('CDXX') == 420\n",
    "assert roman_numeral('LXIX') == 69\n",
    "# rigby = ''.join(['M' * 42, 'LXIX'])\n",
    "assert roman_numeral('MMMMMMMMMMMMMMMMMMMMMMMMMMMMMMMMMMMMMMMMMMLXIX') == 42069\n",
    "try:\n",
    "    del rigby\n",
    "except:\n",
    "    print \"randy is the best\""
   ]
  },
  {
   "cell_type": "code",
   "execution_count": null,
   "metadata": {
    "collapsed": true
   },
   "outputs": [],
   "source": [
    "from collections import Counter, defaultdict\n",
    "class Solution(object):\n",
    "    \n",
    "    # def get_counts(self, nums):\n",
    "        # return [(k, len([n for n in nums if n == k])) for k in nums]\n",
    "    \n",
    "    def topKFrequent(self, nums, k):\n",
    "        \"\"\"\n",
    "        :type nums: List[int]\n",
    "        :type k: int\n",
    "        :rtype: List[int]\n",
    "        \"\"\"\n",
    "        #return [k for k, v in Counter(nums).most_common(k)]\n",
    "        # num_cts = self.get_counts(nums)\n",
    "        # num_cts = sorted(num_cts, key=lambda x: x[-1], reverse=True)\n",
    "        # out = []\n",
    "        \n",
    "        # for n in num_cts:\n",
    "        #     if n[0] not in out:\n",
    "        #         out.append(n[0])\n",
    "        #     if len(out) == k:\n",
    "        #         return out\n",
    "        # return nums\n",
    "        \n",
    "        num_counts = defaultdict(lambda: 0)\n",
    "        for n in nums:\n",
    "            num_counts[n] += 1\n",
    "        tar = sorted(num_counts.values(), reverse=True)[k - 1]\n",
    "        return [n for n, v in num_counts.items() if v >= tar]"
   ]
  },
  {
   "cell_type": "code",
   "execution_count": 51,
   "metadata": {
    "ExecuteTime": {
     "end_time": "2016-09-20T18:22:28.260864",
     "start_time": "2016-09-20T18:22:28.252846"
    },
    "collapsed": true
   },
   "outputs": [],
   "source": [
    "from random import randint\n",
    "class Solution(object):\n",
    "\n",
    "    def __init__(self, nums):\n",
    "        \"\"\"\n",
    "        \n",
    "        :type nums: List[int]\n",
    "        :type numsSize: int\n",
    "        \"\"\"\n",
    "        self.nums = nums\n",
    "        \n",
    "\n",
    "    def pick(self, target):\n",
    "        \"\"\"\n",
    "        :type target: int\n",
    "        :rtype: int\n",
    "        \"\"\"\n",
    "        idxs = []\n",
    "        cur_idx = 0\n",
    "        for i, x in enumerate(self.nums):\n",
    "            if x == target:\n",
    "                idxs.append(i)\n",
    "        return idxs[randint(0, len(idxs) - 1)]\n",
    "        "
   ]
  },
  {
   "cell_type": "code",
   "execution_count": 52,
   "metadata": {
    "ExecuteTime": {
     "end_time": "2016-09-20T18:22:28.491732",
     "start_time": "2016-09-20T18:22:28.487946"
    },
    "collapsed": false
   },
   "outputs": [
    {
     "data": {
      "text/plain": [
       "0"
      ]
     },
     "execution_count": 52,
     "metadata": {},
     "output_type": "execute_result"
    }
   ],
   "source": [
    "sln = Solution([420, 420, 420, 69])\n",
    "sln.pick(420)"
   ]
  },
  {
   "cell_type": "code",
   "execution_count": 32,
   "metadata": {
    "ExecuteTime": {
     "end_time": "2016-09-20T16:46:48.271650",
     "start_time": "2016-09-20T16:46:48.265315"
    },
    "collapsed": true
   },
   "outputs": [],
   "source": [
    "# i forget what leetcode this is but ur supposed to reverse the order of vowels\n",
    "\n",
    "class Solution(object):\n",
    "    def reverseVowels(self, s):\n",
    "        \"\"\"\n",
    "        :type s: str\n",
    "        :rtype: str\n",
    "        \"\"\"\n",
    "        vowel_set = {'a', 'e', 'i', 'o', 'u'}\n",
    "        vowels = []\n",
    "        str_out = []\n",
    "        for c in s:\n",
    "            if c.lower() in vowel_set:\n",
    "                vowels.append(c)\n",
    "                str_out.append('{}')\n",
    "            else:\n",
    "                str_out.append(c)\n",
    "\n",
    "        return ''.join(str_out).format(*vowels[::-1])"
   ]
  },
  {
   "cell_type": "code",
   "execution_count": 33,
   "metadata": {
    "ExecuteTime": {
     "end_time": "2016-09-20T16:46:48.437133",
     "start_time": "2016-09-20T16:46:48.433307"
    },
    "collapsed": false
   },
   "outputs": [
    {
     "data": {
      "text/plain": [
       "'leotcede'"
      ]
     },
     "execution_count": 33,
     "metadata": {},
     "output_type": "execute_result"
    }
   ],
   "source": [
    "Solution().reverseVowels('leetcode')"
   ]
  },
  {
   "cell_type": "code",
   "execution_count": 43,
   "metadata": {
    "ExecuteTime": {
     "end_time": "2016-09-20T18:19:13.220440",
     "start_time": "2016-09-20T18:19:13.213072"
    },
    "collapsed": true
   },
   "outputs": [],
   "source": [
    "# leetcode 374\n",
    "\n",
    "# The guess API is already defined for you.\n",
    "# @param num, your guess\n",
    "# @return -1 if my number is lower, 1 if my number is higher, otherwise return 0\n",
    "# def guess(num):\n",
    "\n",
    "class Solution(object):\n",
    "    def guessNumber(self, n):\n",
    "        \"\"\"\n",
    "        :type n: int\n",
    "        :rtype: int\n",
    "        \"\"\"\n",
    "        cur_guess = n / 2\n",
    "        last_low = 0\n",
    "        while True:\n",
    "            res = guess(cur_guess)\n",
    "            print(cur_guess, res)\n",
    "            if res == 0:\n",
    "                return cur_guess\n",
    "            if res == 1:\n",
    "                last_low = cur_guess\n",
    "                cur_guess = n - ((n - cur_guess) / 2)\n",
    "            else:\n",
    "                cur_guess = last_low + (cur_guess - last_low) / 2"
   ]
  },
  {
   "cell_type": "code",
   "execution_count": null,
   "metadata": {
    "collapsed": true
   },
   "outputs": [],
   "source": [
    "\n",
    "class Solution(object):\n",
    "    def evalRPN(self, tokens):\n",
    "        \"\"\"\n",
    "        :type tokens: List[str]\n",
    "        :rtype: int\n",
    "        \"\"\"\n",
    "        if len(tokens) <= 1:\n",
    "            return int(tokens.pop())\n",
    "        \n",
    "        ops = {\n",
    "            '+': lambda a, b: a + b,\n",
    "            '-': lambda a, b: a - b,\n",
    "            '*': lambda a, b: a * b,\n",
    "            # fuck this problem and unstated expected float behavior\n",
    "            '/': lambda a, b: a / float(b)\n",
    "            }\n",
    "            \n",
    "        nums = []\n",
    "        \n",
    "        out_res = 0\n",
    "        \n",
    "        while tokens:\n",
    "            token = tokens.pop(0)\n",
    "            \n",
    "            if token in ops:\n",
    "                b = nums.pop(0)\n",
    "                a = nums.pop(0)\n",
    "                nums.insert(0, int(ops[token](a, b)))\n",
    "            else:\n",
    "                nums.insert(0, int(token))\n",
    "        \n",
    "        return nums.pop()"
   ]
  },
  {
   "cell_type": "code",
   "execution_count": 16,
   "metadata": {
    "ExecuteTime": {
     "end_time": "2016-09-23T13:27:20.496531",
     "start_time": "2016-09-23T13:27:20.486582"
    },
    "collapsed": true
   },
   "outputs": [],
   "source": [
    "# kid-rsa\n",
    "import numpy as np\n",
    "\n",
    "def gen_key():\n",
    "    a, b, a1, b1 = np.random.randint(69, size=4)\n",
    "\n",
    "    M = a * b - 1\n",
    "    e = a1 * M + a  # e = encryption\n",
    "    d = b1 * M + b  # d = decryption\n",
    "    n = (e * d) / M\n",
    "\n",
    "    return {'pub_key': {'e': e, 'n': n}, 'priv_key': {'d': d, 'n': n}}\n",
    "\n",
    "def encrypt(P, pub_key):\n",
    "    e = pub_key.get('e')\n",
    "    n = pub_key.get('n')\n",
    "    return (e * P) % n\n",
    "\n",
    "def decrypt(C, priv_key):\n",
    "    d = priv_key.get('d')\n",
    "    n = priv_key.get('n')\n",
    "    return (C * d) % n"
   ]
  },
  {
   "cell_type": "code",
   "execution_count": 34,
   "metadata": {
    "ExecuteTime": {
     "end_time": "2016-09-23T16:59:43.097497",
     "start_time": "2016-09-23T16:59:43.094576"
    },
    "collapsed": false
   },
   "outputs": [],
   "source": [
    "keyz = gen_key()\n",
    "p_chars = [ord(c) for c in 'space nugz']"
   ]
  },
  {
   "cell_type": "code",
   "execution_count": 35,
   "metadata": {
    "ExecuteTime": {
     "end_time": "2016-09-23T16:59:43.307543",
     "start_time": "2016-09-23T16:59:43.304283"
    },
    "collapsed": false
   },
   "outputs": [
    {
     "name": "stdout",
     "output_type": "stream",
     "text": [
      "[1253922, 711444, 2884321, 3245973, 3607625, 901165, 349792, 1615574, 3969277, 2519704]\n"
     ]
    }
   ],
   "source": [
    "encrypt(420, keyz['pub_key'])\n",
    "enc_chars = [encrypt(x, keyz['pub_key']) for x in p_chars]\n",
    "print(enc_chars)"
   ]
  },
  {
   "cell_type": "code",
   "execution_count": 36,
   "metadata": {
    "ExecuteTime": {
     "end_time": "2016-09-23T16:59:43.466194",
     "start_time": "2016-09-23T16:59:43.462818"
    },
    "collapsed": false
   },
   "outputs": [
    {
     "name": "stdout",
     "output_type": "stream",
     "text": [
      "space nugz\n"
     ]
    }
   ],
   "source": [
    "decrypt(26522, keyz['priv_key'])\n",
    "print(''.join([chr(decrypt(x, keyz['priv_key'])) for x in enc_chars]))"
   ]
  },
  {
   "cell_type": "code",
   "execution_count": 37,
   "metadata": {
    "ExecuteTime": {
     "end_time": "2016-10-03T15:50:08.003976",
     "start_time": "2016-10-03T15:50:07.950157"
    },
    "collapsed": true
   },
   "outputs": [],
   "source": [
    "# Definition for singly-linked list.\n",
    "# class ListNode(object):\n",
    "#     def __init__(self, x):\n",
    "#         self.val = x\n",
    "#         self.next = None\n",
    "\n",
    "class Solution(object):\n",
    "    def addTwoNumbers(self, l1, l2):\n",
    "        \"\"\"\n",
    "        :type l1: ListNode\n",
    "        :type l2: ListNode\n",
    "        :rtype: ListNode\n",
    "        \"\"\"\n",
    "        node1 = l1\n",
    "        node2 = l2\n",
    "        \n",
    "        \n",
    "        if node2 is None:\n",
    "            return None\n",
    "        if node1 is None:\n",
    "            return None\n",
    "        \n",
    "        carry_over = 0\n",
    "        \n",
    "        head = ListNode(l1.val + l2.val)\n",
    "        if head.val >= 10:\n",
    "            carry_over = 1\n",
    "            head.val = max([0, head.val - 10])\n",
    "\n",
    "        res_node = head\n",
    "        \n",
    "        while node1 or node2:\n",
    "            node1 = node1.next if node1 else None\n",
    "            node2 = node2.next if node2 else None\n",
    "            n1v = node1.val if node1 else 0\n",
    "            n2v = node2.val if node2 else 0\n",
    "            \n",
    "            if (node1 is not None) or (node2 is not None):\n",
    "                res_node.next = ListNode(n1v + n2v)\n",
    "                if carry_over:\n",
    "                    res_node.next.val += carry_over\n",
    "                    carry_over = 0\n",
    "                if res_node.next.val >= 10:\n",
    "                    carry_over = 1\n",
    "                    res_node.next.val = max([0, res_node.next.val - 10])\n",
    "                res_node = res_node.next\n",
    "            \n",
    "            elif carry_over:\n",
    "                res_node.next = ListNode(carry_over)\n",
    "                carry_over = 0\n",
    "            \n",
    "            \n",
    "        if carry_over:\n",
    "                res_node.next = ListNode(carry_over)\n",
    "        return head\n",
    "            "
   ]
  },
  {
   "cell_type": "code",
   "execution_count": 40,
   "metadata": {
    "ExecuteTime": {
     "end_time": "2016-10-03T15:52:49.425589",
     "start_time": "2016-10-03T15:52:49.418762"
    },
    "collapsed": false
   },
   "outputs": [
    {
     "name": "stdout",
     "output_type": "stream",
     "text": [
      "[ 0.92291018  0.72640757  0.04258553  0.83420704  0.18383815  0.52847242\n",
      "  0.75502682  0.4011283   0.97471523  0.80712865]\n"
     ]
    }
   ],
   "source": [
    "test = np.random.random(10)\n",
    "print(test)"
   ]
  },
  {
   "cell_type": "code",
   "execution_count": 42,
   "metadata": {
    "ExecuteTime": {
     "end_time": "2016-10-03T15:53:03.514795",
     "start_time": "2016-10-03T15:53:03.510710"
    },
    "collapsed": false
   },
   "outputs": [
    {
     "data": {
      "text/plain": [
       "array([2, 4])"
      ]
     },
     "execution_count": 42,
     "metadata": {},
     "output_type": "execute_result"
    }
   ],
   "source": [
    "np.where(test < .2)[0]"
   ]
  },
  {
   "cell_type": "code",
   "execution_count": 43,
   "metadata": {
    "ExecuteTime": {
     "end_time": "2016-10-03T15:58:39.972141",
     "start_time": "2016-10-03T15:58:39.967871"
    },
    "collapsed": false
   },
   "outputs": [
    {
     "data": {
      "text/plain": [
       "[1, 3, 5, 7, 9]"
      ]
     },
     "execution_count": 43,
     "metadata": {},
     "output_type": "execute_result"
    }
   ],
   "source": [
    "range(1, 10, 2)"
   ]
  },
  {
   "cell_type": "code",
   "execution_count": 44,
   "metadata": {
    "ExecuteTime": {
     "end_time": "2016-10-03T15:59:03.400360",
     "start_time": "2016-10-03T15:59:03.396837"
    },
    "collapsed": false
   },
   "outputs": [
    {
     "data": {
      "text/plain": [
       "[0, 1, 2, 3, 4]"
      ]
     },
     "execution_count": 44,
     "metadata": {},
     "output_type": "execute_result"
    }
   ],
   "source": [
    "[(i - 1) / 2 for i in range(1, 10, 2)]"
   ]
  },
  {
   "cell_type": "code",
   "execution_count": 45,
   "metadata": {
    "ExecuteTime": {
     "end_time": "2016-10-03T16:37:43.691401",
     "start_time": "2016-10-03T16:37:43.689220"
    },
    "collapsed": true
   },
   "outputs": [],
   "source": [
    "import operator"
   ]
  },
  {
   "cell_type": "code",
   "execution_count": 46,
   "metadata": {
    "ExecuteTime": {
     "end_time": "2016-10-03T16:37:46.871678",
     "start_time": "2016-10-03T16:37:46.866886"
    },
    "collapsed": false
   },
   "outputs": [
    {
     "data": {
      "text/plain": [
       "'/Users/CMCCALL88/anaconda/lib/python2.7/lib-dynload/operator.so'"
      ]
     },
     "execution_count": 46,
     "metadata": {},
     "output_type": "execute_result"
    }
   ],
   "source": [
    "operator.__file__"
   ]
  },
  {
   "cell_type": "code",
   "execution_count": null,
   "metadata": {
    "collapsed": true
   },
   "outputs": [],
   "source": [
    "#leetcode 463\n",
    "\n",
    "class Solution(object):\n",
    "    def islandPerimeter(self, grid):\n",
    "        \"\"\"\n",
    "        :type grid: List[List[int]]\n",
    "        :rtype: int\n",
    "        \"\"\"\n",
    "        \n",
    "        row_len = len(grid[0])\n",
    "        grid = [[0] * row_len] + grid + [[0] * row_len]\n",
    "        grid = [[0] + row + [0] for row in grid] \n",
    "        \n",
    "        res = 0\n",
    "        \n",
    "        for cur_row, next_row in zip(grid, grid[1:]):\n",
    "            for i, x in enumerate(zip(cur_row, cur_row[1:])):\n",
    "                x, next_x = x\n",
    "                if x == 1 and next_x == 0:\n",
    "                    res += 1\n",
    "                if x == 0 and next_x == 1:\n",
    "                    res += 1\n",
    "                if x == 1 and next_row[i] == 0:\n",
    "                    res += 1\n",
    "                if x == 0 and next_row[i] == 1:\n",
    "                    res += 1\n",
    "        return res"
   ]
  },
  {
   "cell_type": "code",
   "execution_count": null,
   "metadata": {
    "collapsed": true
   },
   "outputs": [],
   "source": [
    "# leetcode 88\n",
    "# this one is dumb af - the problem doesn't really match the specification\n",
    "# and/or it's not well suited to python really.\n",
    "# still, this is one of the worst implementations and i need to clean it\n",
    "\n",
    "class Solution(object):\n",
    "    def merge(self, nums1, m, nums2, n):\n",
    "        \"\"\"\n",
    "        :type nums1: List[int]\n",
    "        :type m: int\n",
    "        :type nums2: List[int]\n",
    "        :type n: int\n",
    "        :rtype: void Do not return anything, modify nums1 in-place instead.\n",
    "        \"\"\"\n",
    "        if nums2 == []:\n",
    "            return\n",
    "        if m == 0:\n",
    "            while nums1:\n",
    "                nums1.pop()\n",
    "            nums1 += nums2\n",
    "            return\n",
    "        \n",
    "        while len(nums1) > m:\n",
    "            nums1.pop(-1)\n",
    "        while len(nums2) > n:\n",
    "            nums2.pop(-1)\n",
    "        \n",
    "        idx1 = 0\n",
    "        idx2 = 0\n",
    "        while idx1 <= (m + n - 1):\n",
    "            try:\n",
    "                if nums1[idx1] > nums2[idx2]:\n",
    "                    nums1.insert(idx1, nums2[idx2])\n",
    "                    idx1 += 1\n",
    "                    idx2 += 1\n",
    "                else:\n",
    "                    idx1 += 1\n",
    "            except IndexError:\n",
    "                nums1 += nums2[idx2:]\n",
    "                return\n",
    "                \n",
    "        return"
   ]
  },
  {
   "cell_type": "code",
   "execution_count": 20,
   "metadata": {
    "ExecuteTime": {
     "end_time": "2016-12-14T13:48:21.248325",
     "start_time": "2016-12-14T13:48:21.244062"
    },
    "collapsed": false
   },
   "outputs": [
    {
     "data": {
      "text/plain": [
       "1"
      ]
     },
     "execution_count": 20,
     "metadata": {},
     "output_type": "execute_result"
    }
   ],
   "source": [
    "min({1: 1, 2:1}, key=lambda x: 1)"
   ]
  },
  {
   "cell_type": "code",
   "execution_count": 27,
   "metadata": {
    "ExecuteTime": {
     "end_time": "2016-12-14T17:14:58.333630",
     "start_time": "2016-12-14T17:14:58.297845"
    },
    "collapsed": true
   },
   "outputs": [],
   "source": [
    "from datetime import datetime as time\n",
    "\n",
    "class LFUCache(object):\n",
    "\n",
    "    def __init__(self, capacity):\n",
    "        \"\"\"\n",
    "        \n",
    "        :type capacity: int\n",
    "        \"\"\"\n",
    "        self.capacity = capacity\n",
    "        self.res_dict = {}\n",
    "        self.used_dict = {}\n",
    "        self.lru = {}\n",
    "        self.full = lambda: len(self.res_dict.keys()) == self.capacity\n",
    "        \n",
    "    # def full(self, cur_cap):\n",
    "        # return cur_cap == self.capacity\n",
    "\n",
    "    def get(self, key):\n",
    "        \"\"\"\n",
    "        :type key: int\n",
    "        :rtype: int\n",
    "        \"\"\"\n",
    "        # print('get called', key)\n",
    "        # print(self.__dict__)\n",
    "        try:\n",
    "            self.used_dict[key] += 1\n",
    "            self.lru[key] = time.now()\n",
    "        except KeyError:\n",
    "            pass\n",
    "        return self.res_dict.get(key, -1)\n",
    "\n",
    "    def set(self, key, value):\n",
    "        \"\"\"\n",
    "        :type key: int\n",
    "        :type value: int\n",
    "        :rtype: void\n",
    "        \"\"\"\n",
    "        if self.capacity == 0:\n",
    "            return -1\n",
    "\n",
    "        # cur_cap = len(self.res_dict.keys())\n",
    "        if self.full() and key not in self.res_dict:\n",
    "            print(self.__dict__)\n",
    "            lfu_value = min(self.used_dict.values())\n",
    "            pos_keys = [k for k, v in self.used_dict.items() if v == lfu_value]\n",
    "            lfu_key = pos_keys[0] if len(pos_keys) == 1 else min(pos_keys, key=lambda x: self.lru.get(x))\n",
    "            print(lfu_value, pos_keys, lfu_key)\n",
    "            del self.res_dict[lfu_key]\n",
    "            del self.lru[lfu_key]\n",
    "            del self.used_dict[lfu_key]\n",
    "            print(self.__dict__)\n",
    "            \n",
    "        self.used_dict[key] = 1\n",
    "        self.res_dict[key] = value\n",
    "        self.lru[key] = time.now()\n",
    "        return"
   ]
  },
  {
   "cell_type": "code",
   "execution_count": 28,
   "metadata": {
    "ExecuteTime": {
     "end_time": "2016-12-14T17:14:58.681093",
     "start_time": "2016-12-14T17:14:58.676753"
    },
    "collapsed": false
   },
   "outputs": [
    {
     "name": "stdout",
     "output_type": "stream",
     "text": [
      "-1\n",
      "-1\n",
      "2\n",
      "6\n"
     ]
    }
   ],
   "source": [
    "lfcache = LFUCache(2)\n",
    "for args in [[2],[2,6],[1],[1,5],[1,2],[1],[2]]:\n",
    "    if len(args) > 1:\n",
    "        lfcache.set(*args)\n",
    "    else:\n",
    "        print(lfcache.get(*args))"
   ]
  },
  {
   "cell_type": "code",
   "execution_count": null,
   "metadata": {
    "collapsed": true
   },
   "outputs": [],
   "source": []
  }
 ],
 "metadata": {
  "kernelspec": {
   "display_name": "Python 2",
   "language": "python",
   "name": "python2"
  },
  "language_info": {
   "codemirror_mode": {
    "name": "ipython",
    "version": 2
   },
   "file_extension": ".py",
   "mimetype": "text/x-python",
   "name": "python",
   "nbconvert_exporter": "python",
   "pygments_lexer": "ipython2",
   "version": "2.7.12"
  },
  "toc": {
   "toc_cell": false,
   "toc_number_sections": true,
   "toc_threshold": 6,
   "toc_window_display": false
  }
 },
 "nbformat": 4,
 "nbformat_minor": 0
}
